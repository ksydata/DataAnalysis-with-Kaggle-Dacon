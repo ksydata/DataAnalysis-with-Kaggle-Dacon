{
 "cells": [
  {
   "cell_type": "markdown",
   "id": "2e11da6a",
   "metadata": {},
   "source": [
    "[통계분석실습 4조] 은행수신상품 가입 여부에 따른 손익 예측을 위한 데이터 분석 프로젝트"
   ]
  },
  {
   "cell_type": "code",
   "execution_count": 1,
   "id": "1b752c00",
   "metadata": {},
   "outputs": [],
   "source": [
    "import pandas as pd\n",
    "import numpy as np\n",
    "import matplotlib.pyplot as plt\n",
    "import math\n",
    "import missingno as msno\n",
    "import seaborn as sns\n",
    "import statsmodels.api as sm\n",
    "from sklearn.model_selection import train_test_split\n",
    "from sklearn.linear_model import LogisticRegression\n",
    "from sklearn.metrics import roc_auc_score, roc_curve, precision_recall_curve, confusion_matrix"
   ]
  },
  {
   "cell_type": "code",
   "execution_count": 2,
   "id": "92947623",
   "metadata": {},
   "outputs": [
    {
     "name": "stdout",
     "output_type": "stream",
     "text": [
      "<class 'pandas.core.frame.DataFrame'>\n",
      "Int64Index: 4000 entries, 25733 to 10327\n",
      "Data columns (total 19 columns):\n",
      " #   Column          Non-Null Count  Dtype  \n",
      "---  ------          --------------  -----  \n",
      " 0   age             4000 non-null   int64  \n",
      " 1   job             4000 non-null   object \n",
      " 2   marital         4000 non-null   object \n",
      " 3   education       4000 non-null   object \n",
      " 4   default         4000 non-null   object \n",
      " 5   housing         4000 non-null   object \n",
      " 6   loan            4000 non-null   object \n",
      " 7   contact         4000 non-null   object \n",
      " 8   month           4000 non-null   object \n",
      " 9   day_of_week     4000 non-null   object \n",
      " 10  campaign        4000 non-null   int64  \n",
      " 11  pdays           269 non-null    float64\n",
      " 12  previous        4000 non-null   int64  \n",
      " 13  poutcome        4000 non-null   object \n",
      " 14  emp.var.rate    4000 non-null   float64\n",
      " 15  cons.price.idx  4000 non-null   float64\n",
      " 16  cons.conf.idx   4000 non-null   float64\n",
      " 17  y               4000 non-null   object \n",
      " 18  generation      4000 non-null   object \n",
      "dtypes: float64(4), int64(3), object(12)\n",
      "memory usage: 625.0+ KB\n",
      "<class 'pandas.core.frame.DataFrame'>\n",
      "Int64Index: 4000 entries, 1 to 4000\n",
      "Data columns (total 20 columns):\n",
      " #   Column          Non-Null Count  Dtype  \n",
      "---  ------          --------------  -----  \n",
      " 0   ID              4000 non-null   int64  \n",
      " 1   age             4000 non-null   int64  \n",
      " 2   job             4000 non-null   object \n",
      " 3   marital         4000 non-null   object \n",
      " 4   education       4000 non-null   object \n",
      " 5   default         4000 non-null   object \n",
      " 6   housing         4000 non-null   object \n",
      " 7   loan            4000 non-null   object \n",
      " 8   contact         4000 non-null   object \n",
      " 9   month           4000 non-null   object \n",
      " 10  day_of_week     4000 non-null   object \n",
      " 11  campaign        4000 non-null   int64  \n",
      " 12  pdays           246 non-null    float64\n",
      " 13  previous        4000 non-null   int64  \n",
      " 14  poutcome        4000 non-null   object \n",
      " 15  emp.var.rate    4000 non-null   float64\n",
      " 16  cons.price.idx  4000 non-null   float64\n",
      " 17  cons.conf.idx   4000 non-null   float64\n",
      " 18  yhat            0 non-null      float64\n",
      " 19  generation      4000 non-null   object \n",
      "dtypes: float64(5), int64(4), object(11)\n",
      "memory usage: 656.2+ KB\n"
     ]
    }
   ],
   "source": [
    "train = pd.read_csv(\"C:\\PDSR/train_SAP.csv\", index_col = 0)\n",
    "test = pd.read_csv(\"C:\\PDSR/test_SAP.csv\", index_col = 0)\n",
    "train.info()\n",
    "test.info()\n",
    "    # [train 및 test 데이터 로드]"
   ]
  },
  {
   "cell_type": "code",
   "execution_count": 3,
   "id": "88e50986",
   "metadata": {},
   "outputs": [],
   "source": [
    "train_col = 0\n",
    "    # [초기화]\n",
    "train_col = []\n",
    "    # [리스트 선언]\n",
    "train_col = train.select_dtypes(include = [\"object\"]).columns.values\n",
    "    # [train 데이터의 문자형 변수명을 리스트에 저장]\n",
    "for feature in train_col:\n",
    "    train = train.astype({feature : \"category\"})\n",
    "        # [train 데이터의 문자형 변수를 범주형으로 변환하는 반복문]"
   ]
  },
  {
   "cell_type": "code",
   "execution_count": 4,
   "id": "013295b3",
   "metadata": {},
   "outputs": [],
   "source": [
    "test_col = 0\n",
    "    # [초기화]\n",
    "test_col = []\n",
    "    # [리스트 선언]\n",
    "test_col = test.select_dtypes(include = [\"object\"]).columns.values\n",
    "    # [test 데이터의 문자형 변수명을 리스트에 저장]\n",
    "for feature in test_col:\n",
    "    test = test.astype({feature : \"category\"})\n",
    "        # [test 데이터의 문자형 변수를 범주형으로 변환하는 반복문]"
   ]
  },
  {
   "cell_type": "code",
   "execution_count": 5,
   "id": "a3c3f45b",
   "metadata": {},
   "outputs": [],
   "source": [
    "train.rename(columns = {\"emp.var.rate\":\"emp_var_rate\", \"cons.price.idx\":\"cons_price_idx\", \"cons.conf.idx\":\"cons_conf_idx\"}, inplace = True)\n",
    "test.rename(columns = {\"emp.var.rate\":\"emp_var_rate\", \"cons.price.idx\":\"cons_price_idx\", \"cons.conf.idx\":\"cons_conf_idx\"},inplace = True)"
   ]
  },
  {
   "cell_type": "code",
   "execution_count": 6,
   "id": "45b39f24",
   "metadata": {},
   "outputs": [],
   "source": [
    "x = train.drop(\"y\", axis = 1)\n",
    "x = train.drop(\"pdays\", axis = 1)\n",
    "y = train[\"y\"]\n",
    "y = pd.DataFrame(y)\n",
    "\n",
    "x_training_a, x_validation_a, y_training_a, y_validation_a = train_test_split(x, y, test_size = 0.4, random_state = 2022)\n",
    "    # [training 및 validation 데이터를 6:4 분할]\n",
    "x_training_b, x_validation_b, y_training_b, y_validation_b = train_test_split(x, y, test_size = 0.3, random_state = 2022)\n",
    "    # [training 및 validation 데이터를 7:3 분할]\n",
    "x_training_c, x_validation_c, y_training_c, y_validation_c = train_test_split(x, y, test_size = 0.2, random_state = 2022)\n",
    "    # [training 및 validation 데이터를 8: 분할]"
   ]
  },
  {
   "cell_type": "code",
   "execution_count": 7,
   "id": "defdafc6",
   "metadata": {},
   "outputs": [
    {
     "name": "stdout",
     "output_type": "stream",
     "text": [
      "\n",
      " (2400, 18) (1600, 18) (2400, 1) (1600, 1) \n",
      " (2800, 18) (1200, 18) (2800, 1) (1200, 1) \n",
      " (3200, 18) (800, 18) (3200, 1) (800, 1)\n"
     ]
    }
   ],
   "source": [
    "print(\n",
    "    \"\\n\", x_training_a.shape, x_validation_a.shape, y_training_a.shape, y_validation_a.shape,\n",
    "    \"\\n\", x_training_b.shape, x_validation_b.shape, y_training_b.shape, y_validation_b.shape,\n",
    "    \"\\n\", x_training_c.shape, x_validation_c.shape, y_training_c.shape, y_validation_c.shape\n",
    ")"
   ]
  },
  {
   "cell_type": "code",
   "execution_count": 8,
   "id": "e62e06e2",
   "metadata": {},
   "outputs": [],
   "source": [
    "y_training_a = pd.DataFrame(y_training_a)\n",
    "y_training_a\n",
    "y_training_a[\"y\"] = y_training_a[\"y\"].astype(\"object\")"
   ]
  },
  {
   "cell_type": "code",
   "execution_count": 9,
   "id": "b6dd11a9",
   "metadata": {
    "scrolled": true
   },
   "outputs": [
    {
     "data": {
      "image/png": "[encoded data removed]",
      "text/plain": [
       "<Figure size 432x288 with 1 Axes>"
      ]
     },
     "metadata": {
      "needs_background": "light"
     },
     "output_type": "display_data"
    }
   ],
   "source": [
    "sns.stripplot(y = \"y\", x = \"emp_var_rate\", data = train,\n",
    "             jitter = True, orient = \"h\")\n",
    "plt.grid(True)\n",
    "plt.show()"
   ]
  },
  {
   "cell_type": "code",
   "execution_count": 10,
   "id": "620f2e61",
   "metadata": {
    "scrolled": true
   },
   "outputs": [
    {
     "data": {
      "image/png": "[encoded data removed]",
      "text/plain": [
       "<Figure size 432x288 with 1 Axes>"
      ]
     },
     "metadata": {
      "needs_background": "light"
     },
     "output_type": "display_data"
    }
   ],
   "source": [
    "sns.stripplot(y = \"y\", x = \"cons_price_idx\", data = train,\n",
    "             jitter = True, orient = \"h\")\n",
    "plt.grid(True)\n",
    "plt.show()"
   ]
  },
  {
   "cell_type": "code",
   "execution_count": 11,
   "id": "55ee9f1c",
   "metadata": {},
   "outputs": [
    {
     "data": {
      "image/png": "[encoded data removed]",
      "text/plain": [
       "<Figure size 432x288 with 1 Axes>"
      ]
     },
     "metadata": {
      "needs_background": "light"
     },
     "output_type": "display_data"
    }
   ],
   "source": [
    "sns.stripplot(y = \"y\", x = \"cons_conf_idx\", data = train,\n",
    "             jitter = True, orient = \"h\")\n",
    "plt.grid(True)\n",
    "plt.show()"
   ]
  },
  {
   "cell_type": "markdown",
   "id": "f9d2e4b4",
   "metadata": {},
   "source": [
    "1. 이항 로지스틱 회귀분석\n",
    "https://github.com/grahamharrison68/Public-Github/blob/master/Logistic%20Regression%20Thresholds/Logistic%20Regression%20Thresholds.ipynb"
   ]
  },
  {
   "cell_type": "markdown",
   "id": "10d5c796",
   "metadata": {},
   "source": [
    "[Trial & Error 1]"
   ]
  },
  {
   "cell_type": "code",
   "execution_count": 12,
   "id": "89bde8db",
   "metadata": {},
   "outputs": [],
   "source": [
    "def log_odds(features, coefficients, intercept):\n",
    "    z = np.dot(features, coefficients) + intercept\n",
    "    return z\n",
    "        # [내적, dot product]\n",
    "def sigmoid(z):\n",
    "    return 1 / (1 + np.exp(-z))\n",
    "        # [시그모이드 함수]\n",
    "def log_loss(probabilities, actual_class):\n",
    "    return np.sum(\n",
    "        -(1/actual_class.shape[0]) * (actual_class * np.log(probabilities) + (1-actual_class) * np.log(1-probabilities))\n",
    "    )\n",
    "        # [prob] log-odds에 sigmoid를 취한 확률 값 \n",
    "        # [actual_class] 실제 class의 label(target, DV)\n",
    "        # [데이터에 대한 loss/cost를 계산한 후 loss의 평균]\n",
    "def predict_class(features, coefficients, intercept, threshold):\n",
    "    z = log_odds(features, coefficients, intercept)\n",
    "    a = sigmoid(z)\n",
    "    return np.where(a >= threshold, 1, 0)"
   ]
  },
  {
   "cell_type": "markdown",
   "id": "15b9c64e",
   "metadata": {},
   "source": [
    "[Trial & Error 2]"
   ]
  },
  {
   "cell_type": "code",
   "execution_count": 13,
   "id": "94d8d511",
   "metadata": {},
   "outputs": [
    {
     "name": "stdout",
     "output_type": "stream",
     "text": [
      "age + job + marital + education + default + housing + loan + contact + month + day_of_week + campaign + pdays + previous + poutcome + emp_var_rate + cons_price_idx + cons_conf_idx + y + generation\n"
     ]
    }
   ],
   "source": [
    "from typing import List, Dict, Iterable, Tuple\n",
    "col = object\n",
    "columns = List[col]\n",
    "    #  [타입 어노테이션] 문자열이 포함된 리스트 명시\n",
    "columns = train.columns.values\n",
    "\n",
    "for col in columns:\n",
    "    if col != \"generation\":\n",
    "        print(col, end = \" + \")\n",
    "    else: \n",
    "        print(col)"
   ]
  },
  {
   "cell_type": "code",
   "execution_count": 14,
   "id": "89b2cab5",
   "metadata": {},
   "outputs": [
    {
     "ename": "SyntaxError",
     "evalue": "invalid syntax (Temp/ipykernel_17232/3121915196.py, line 12)",
     "output_type": "error",
     "traceback": [
      "\u001b[1;36m  File \u001b[1;32m\"C:\\Users\\SOOYEO~1\\AppData\\Local\\Temp/ipykernel_17232/3121915196.py\"\u001b[1;36m, line \u001b[1;32m12\u001b[0m\n\u001b[1;33m    y_pred = logistic_a.predict(X) >=\u001b[0m\n\u001b[1;37m                                      ^\u001b[0m\n\u001b[1;31mSyntaxError\u001b[0m\u001b[1;31m:\u001b[0m invalid syntax\n"
     ]
    }
   ],
   "source": [
    "'''\n",
    "glm_a = sm.Logit.from_formula(\"y ~ age + education\", data = x_training_a).fit()\n",
    "glm_a.summary()\n",
    "y_prob = glm_a.predict(x_training_a)\n",
    "y_pred = list(map(threshold, y_prob))\n",
    "'''\n",
    "\n",
    "logit_a = sm.Logit.from_formula(\"y ~ age + job + marital + education + default + housing + loan + contact + month + day_of_week + campaign + previous + poutcome + emp_var_rate + cons_price_idx + cons_conf_idx + y + generation\", train)\n",
    "logistic_a = logit_mod.fit(disp = 0)\n",
    "    # [최적화 과정에서 문자열 메세지를 나타내지 않는 역할]\n",
    "logistic_a.summary()\n",
    "y_pred = logistic_a.predict(X) >= \n",
    "    # [threshold]\n",
    "\n",
    "train[\"prediction\"] = logistic_a.predict(train)\n",
    "sns.boxplot(x = \"y\", y = \"prediction\", data = train)\n",
    "plt.show()"
   ]
  },
  {
   "cell_type": "markdown",
   "id": "fe15a4ef",
   "metadata": {},
   "source": [
    "[Trial & Error 3]"
   ]
  },
  {
   "cell_type": "code",
   "execution_count": 15,
   "id": "c4116eb3",
   "metadata": {},
   "outputs": [],
   "source": [
    "def user_cost_function(TP, TN, FN, FP):\n",
    "    cost = 0\n",
    "        # [초기화]\n",
    "    cost += (TP * 5)\n",
    "    cost += (TN * -2)\n",
    "    cost += (FN * -3)\n",
    "    cost += (FP * 0)\n",
    "    \n",
    "    return cost"
   ]
  },
  {
   "cell_type": "code",
   "execution_count": 16,
   "id": "4e452fdb",
   "metadata": {},
   "outputs": [],
   "source": [
    "class LogisticRegressionThreshold(LogisticRegression):\n",
    "    def predict(self, X, threshold = None):\n",
    "        \n",
    "        if threshold == None: \n",
    "            # [threshold = 0.5]\n",
    "            return LogisticRegression.predict(self, x)\n",
    "        \n",
    "        else:\n",
    "            y_scores = LogisticRegression.predict_proba(self, x)[:, 1]\n",
    "            y_pred_thre = (y_scores >= threshold).astype(int)\n",
    "\n",
    "            return y_pred_thre\n",
    "        \n",
    "    def threshold_with_costfunction(self, x, y, cost_function):\n",
    "    \n",
    "        y_socres = LogisticRegression.predict_proba(self, x)[:, 1]\n",
    "        precisions, recalls, thresholds = precision_recall_curve(y, y_scores)\n",
    "    \n",
    "        Costs = []\n",
    "        TPs = []\n",
    "        TNs = []\n",
    "        FNs = []\n",
    "        FPs = []\n",
    "        \n",
    "        for threshold in thresholds:\n",
    "            y_pred_with_threshold = (y_scores >= threshold).astype(int)\n",
    "            TP, TN, FN, FP = confusion_matrix(y, y_pred_with_threshold).ravel()\n",
    "            \n",
    "            Costs.append(user_cost_function(TP, TN, FN, FP))\n",
    "            TPs.append(TP), TNs.append(TN), FNs.append(FN), FPs.append(FP)\n",
    "        cost_df = pd.DataFrame({\n",
    "            \"precision\":precisions[:-1],\n",
    "            \"recall\":recalls[:-1],\n",
    "            \"threshold\":thresholds,\n",
    "            \"cost\":Costs,\n",
    "            \"TP\":TPs, \"TN\":TNs, \"FN\":FNs, \"FP\":FPs\n",
    "        })\n",
    "    \n",
    "        cost_min = cost_df[cost_df[\"cost\"] == cost_min].iloc[0][\"threshold\"]\n",
    "    \n",
    "        return threshold, cost_min, cost_df"
   ]
  },
  {
   "cell_type": "code",
   "execution_count": 17,
   "id": "d0647db5",
   "metadata": {},
   "outputs": [
    {
     "ename": "TypeError",
     "evalue": "'float' object cannot be interpreted as an integer",
     "output_type": "error",
     "traceback": [
      "\u001b[1;31m---------------------------------------------------------------------------\u001b[0m",
      "\u001b[1;31mTypeError\u001b[0m                                 Traceback (most recent call last)",
      "\u001b[1;32mC:\\Users\\SOOYEO~1\\AppData\\Local\\Temp/ipykernel_17232/178219830.py\u001b[0m in \u001b[0;36m<module>\u001b[1;34m\u001b[0m\n\u001b[0;32m      1\u001b[0m \u001b[0mlogit_thre\u001b[0m \u001b[1;33m=\u001b[0m \u001b[0mLogisticRegressionThreshold\u001b[0m\u001b[1;33m(\u001b[0m\u001b[1;33m)\u001b[0m\u001b[1;33m\u001b[0m\u001b[1;33m\u001b[0m\u001b[0m\n\u001b[1;32m----> 2\u001b[1;33m \u001b[0mlogit_a\u001b[0m \u001b[1;33m=\u001b[0m \u001b[0mlogit_thre\u001b[0m\u001b[1;33m.\u001b[0m\u001b[0mfit\u001b[0m\u001b[1;33m(\u001b[0m\u001b[0mx_training_a\u001b[0m\u001b[1;33m,\u001b[0m \u001b[0my_training_a\u001b[0m\u001b[1;33m,\u001b[0m \u001b[0mrange\u001b[0m\u001b[1;33m(\u001b[0m\u001b[1;36m0.05\u001b[0m\u001b[1;33m,\u001b[0m \u001b[1;36m0.95\u001b[0m\u001b[1;33m,\u001b[0m \u001b[1;36m0.05\u001b[0m\u001b[1;33m)\u001b[0m\u001b[1;33m)\u001b[0m\u001b[1;33m\u001b[0m\u001b[1;33m\u001b[0m\u001b[0m\n\u001b[0m\u001b[0;32m      3\u001b[0m \u001b[1;33m\u001b[0m\u001b[0m\n\u001b[0;32m      4\u001b[0m \u001b[0mthreshold\u001b[0m\u001b[1;33m,\u001b[0m \u001b[0mcost_min\u001b[0m\u001b[1;33m,\u001b[0m \u001b[0mcost_df\u001b[0m \u001b[1;33m=\u001b[0m \u001b[0mlogit_thre\u001b[0m\u001b[1;33m.\u001b[0m\u001b[0mthreshold_with_costfunction\u001b[0m\u001b[1;33m(\u001b[0m\u001b[0mx_training_6\u001b[0m\u001b[1;33m,\u001b[0m \u001b[0my_training_6\u001b[0m\u001b[1;33m,\u001b[0m \u001b[0muser_cost_function\u001b[0m\u001b[1;33m)\u001b[0m\u001b[1;33m\u001b[0m\u001b[1;33m\u001b[0m\u001b[0m\n\u001b[0;32m      5\u001b[0m \u001b[0my_pred\u001b[0m \u001b[1;33m=\u001b[0m \u001b[0mlogit_a\u001b[0m\u001b[1;33m.\u001b[0m\u001b[0mpredict\u001b[0m\u001b[1;33m(\u001b[0m\u001b[0mx_training_a\u001b[0m\u001b[1;33m,\u001b[0m \u001b[0mthreshold\u001b[0m\u001b[1;33m)\u001b[0m\u001b[1;33m\u001b[0m\u001b[1;33m\u001b[0m\u001b[0m\n",
      "\u001b[1;31mTypeError\u001b[0m: 'float' object cannot be interpreted as an integer"
     ]
    }
   ],
   "source": [
    "logit_thre = LogisticRegressionThreshold()\n",
    "logit_a = logit_thre.fit(x_training_a, y_training_a, range(0.05, 0.95, 0.05))\n",
    "\n",
    "threshold, cost_min, cost_df = logit_thre.threshold_with_costfunction(x_training_6, y_training_6, user_cost_function)\n",
    "y_pred = logit_a.predict(x_training_a, threshold)\n",
    "threshold, min_cost"
   ]
  },
  {
   "cell_type": "markdown",
   "id": "aee0ae34",
   "metadata": {},
   "source": [
    "[Trial & Error 4]"
   ]
  },
  {
   "cell_type": "code",
   "execution_count": null,
   "id": "774ce792",
   "metadata": {},
   "outputs": [],
   "source": []
  }
 ],
 "metadata": {
  "kernelspec": {
   "display_name": "Python 3 (ipykernel)",
   "language": "python",
   "name": "python3"
  },
  "language_info": {
   "codemirror_mode": {
    "name": "ipython",
    "version": 3
   },
   "file_extension": ".py",
   "mimetype": "text/x-python",
   "name": "python",
   "nbconvert_exporter": "python",
   "pygments_lexer": "ipython3",
   "version": "3.9.7"
  }
 },
 "nbformat": 4,
 "nbformat_minor": 5
}
