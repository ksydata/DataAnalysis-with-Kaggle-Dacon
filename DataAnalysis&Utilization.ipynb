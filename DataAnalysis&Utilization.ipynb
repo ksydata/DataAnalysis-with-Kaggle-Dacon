{
  "nbformat": 4,
  "nbformat_minor": 0,
  "metadata": {
    "colab": {
      "provenance": [],
      "mount_file_id": "163oh4-2H5f3beaq7V1EZs3GR5ggkCA-o",
      "authorship_tag": "ABX9TyOOXuBH3trkap8B16UjSVVv",
      "include_colab_link": true
    },
    "kernelspec": {
      "name": "python3",
      "display_name": "Python 3"
    },
    "language_info": {
      "name": "python"
    }
  },
  "cells": [
    {
      "cell_type": "markdown",
      "metadata": {
        "id": "view-in-github",
        "colab_type": "text"
      },
      "source": [
        "<a href=\"https://colab.research.google.com/github/ksydata/DataAnalysis-with-Kaggle-Dacon/blob/main/DataAnalysis%26Utilization.ipynb\" target=\"_parent\"><img src=\"https://colab.research.google.com/assets/colab-badge.svg\" alt=\"Open In Colab\"/></a>"
      ]
    },
    {
      "cell_type": "markdown",
      "source": [
        "# **데이터 분석 및 활용 Australian Housing Prices 데이터 분석 과제**\n",
        "\n",
        "The dataset contains information on 1000 properties in Australia, including location, size, price, and other details"
      ],
      "metadata": {
        "id": "aWkLy2I7QllP"
      }
    },
    {
      "cell_type": "markdown",
      "source": [
        "\n",
        "\n",
        "```\n",
        "1. Kaggle notebook의 GCS(Google Cloud Storage) PATH를 Collab에서 경로 지정\n",
        "\n",
        "!pip install kaggle --upgrade\n",
        "!pip install gcsfs\n",
        "    # 구글 클라우드 스토리지 경로를 불러오기 위해 설치\n",
        "from kaggle_datasets import KaggleDatasets\n",
        "GCS_DS_PATH = KaggleDatasets().get_gcs_path(\"RealEstateAU_1000_Samples\")\n",
        "print(GCS_DS_PATH)\n",
        "    # Kaggle notebook의 GCS(Google Cloud Storage) PATH를 Collab에서 불러옴\n",
        "GCS_DS_PATH = \"gs://'''Kaggle에서 복사한 경로 붙여넣기'''\n",
        "train = pd.read_csv(GCS_DS_PATH + \"/train.csv\")\n",
        "```\n",
        "\n"
      ],
      "metadata": {
        "id": "96uV0CsrvcQC"
      }
    },
    {
      "cell_type": "markdown",
      "source": [
        "\n",
        "\n",
        "```\n",
        "2. kaggle.json 위치변경 및 실행\n",
        "\n",
        "!pip install -q kaggle\n",
        "    # Kaggle API 설치\n",
        "!mkdir -p ~/.kaggle\n",
        "    # Kaggle directory 만들기\n",
        "from google.colab import files\n",
        "    # google collab API key 불러오기\n",
        "uploaded = files.upload\n",
        "    # 다운로드한 kaggle.json file 업로드\n",
        "\n",
        "! cp kaggle.json ~/.kaggle\n",
        "    # Kaggle directory의 API key 복사 \n",
        "!chmod 600 ~/.kaggle/kaggle.json \n",
        "    # disable API key \n",
        "    # {\"username\":\"sooyeonknunsong\",\"key\":\"6f920cdd3a94110643504ef606a7af8a\"}\n",
        "!kaggle datasets download -d thedevastator/australian-housing-data-1000-properties-sampled\n",
        "    # 데이터 셋 다운로드\n",
        "!unzip -q /content/australian-housing-data-1000-properties-sampled.zip\n",
        "    # 파일 압축 풀기\n",
        "```\n",
        "\n"
      ],
      "metadata": {
        "id": "JYhPjp-FyOtw"
      }
    },
    {
      "cell_type": "code",
      "source": [
        "import pandas as pd\n",
        "import missingno as msno\n",
        "import re\n",
        "import numpy as np\n",
        "\n",
        "from sklearn import *\n",
        "from sklearn.metrics import *\n",
        "from sklearn.model_selection import train_test_split\n",
        "\n",
        "from matplotlib.pyplot import figure\n",
        "import matplotlib.pyplot as plt\n",
        "import seaborn as sns\n",
        "\n",
        "from sklearn.preprocessing import MinMaxScaler\n",
        "from sklearn.preprocessing import StandardScaler\n",
        "from sklearn.preprocessing import LabelEncoder\n",
        "from sklearn.preprocessing import OneHotEncoder\n",
        "from sklearn.impute import KNNImputer"
      ],
      "metadata": {
        "id": "EKRmibIvRbxM"
      },
      "execution_count": 1304,
      "outputs": []
    },
    {
      "cell_type": "code",
      "source": [
        "HP = pd.read_csv(\"/content/drive/MyDrive/Colab Notebooks/RealEstateAU_1000_Samples.csv\", index_col = 0,  na_values = [\"NaN\"])\n",
        "    # Australian Housing Price pandas.DataFrame"
      ],
      "metadata": {
        "id": "Hdgyabvh1Stx"
      },
      "execution_count": 1305,
      "outputs": []
    },
    {
      "cell_type": "code",
      "source": [
        "CodeBook = pd.DataFrame({\"features\" :\n",
        "                         [\"breadcrumb\", \"category_name\", \"property_type\", \"building_size\", \"land_size\", \"preferred_size\",\"open_date\",\n",
        "                         \"listing_agency\", \"price\", \"location_number\", \"location_type\",\n",
        "                         \"location_name\", \"address\", \"address_1\", \"city\", \"state\", \"zip_code\", \"phone\",\n",
        "                         \"latitude\", \"longitude\", \"product_depth\", \"bedroom_count\", \"bathroom_count\", \"parking_count\", \"RunDate\"],\n",
        "                         \n",
        "                         \"descripts\" : \n",
        "                         [\"A breadcrumb is a text trail that shows the user's location within a website. (String)\", \n",
        "                         \"The name of the category that the listing belongs to. (String)\",\n",
        "                         \"The type of property being listed. (String)\",\n",
        "                         \"The size of the property's building, in square meters. (Numeric)\",\n",
        "                         \"The size of the property's land, in square meters. (Numeric)\",\n",
        "                         \"The preferred size of the property, in square meters. (Numeric)\",\n",
        "                         \"The date that the property was first listed for sale. (Date)\",\n",
        "                         \"The agency that is listing the property. (String)\",\n",
        "                         \"The listing price of the property. (Numeric)\",\n",
        "                         \"The number that corresponds to the property's location. (Numeric)\",\n",
        "                         \"The type of location that the property is in. (String)\",\n",
        "                         \"The name of the location that the property is in. (String)\",\n",
        "                         \"The property's address. (String)\",\n",
        "                         \"The first line of the property's address. (String)\",\n",
        "                         \"The city that the property is located in. (String)\",\n",
        "                         \"The state that the property is located in. (String)\",\n",
        "                         \"The zip code that the property is located in. (String)\",\n",
        "                         \"The listing agent's phone number. (String)\",\n",
        "                         \"The property's latitude. (Numeric)\",\n",
        "                         \"The property's longitude. (Numeric)\",\n",
        "                         \"The depth of the product. (Numeric)\",\n",
        "                         \"The number of bedrooms in the property. (Numeric)\",\n",
        "                         \"The number of bathrooms in the property. (Numeric)\",\n",
        "                         \"The number of parking spaces in the property. (Numeric)\",\n",
        "                         \"The date that the listing was last updated. (Date)\"]\n",
        "})"
      ],
      "metadata": {
        "id": "uKQs4eIlRS3i"
      },
      "execution_count": 1306,
      "outputs": []
    },
    {
      "cell_type": "code",
      "source": [
        "pd.set_option(\"display.max_columns\", 10)\n",
        "pd.set_option(\"display.max_row\", 10)\n",
        "CodeBook"
      ],
      "metadata": {
        "id": "hWgP7LF12P3e",
        "colab": {
          "base_uri": "https://localhost:8080/",
          "height": 423
        },
        "outputId": "0a01fec0-ce3d-47f2-a152-396586383a43"
      },
      "execution_count": 1307,
      "outputs": [
        {
          "output_type": "execute_result",
          "data": {
            "text/plain": [
              "          features                                          descripts\n",
              "0       breadcrumb  A breadcrumb is a text trail that shows the us...\n",
              "1    category_name  The name of the category that the listing belo...\n",
              "2    property_type        The type of property being listed. (String)\n",
              "3    building_size  The size of the property's building, in square...\n",
              "4        land_size  The size of the property's land, in square met...\n",
              "..             ...                                                ...\n",
              "20   product_depth                The depth of the product. (Numeric)\n",
              "21   bedroom_count  The number of bedrooms in the property. (Numeric)\n",
              "22  bathroom_count  The number of bathrooms in the property. (Nume...\n",
              "23   parking_count  The number of parking spaces in the property. ...\n",
              "24         RunDate  The date that the listing was last updated. (D...\n",
              "\n",
              "[25 rows x 2 columns]"
            ],
            "text/html": [
              "\n",
              "  <div id=\"df-2bca9e7c-6842-4441-b156-646d8db95ac2\">\n",
              "    <div class=\"colab-df-container\">\n",
              "      <div>\n",
              "<style scoped>\n",
              "    .dataframe tbody tr th:only-of-type {\n",
              "        vertical-align: middle;\n",
              "    }\n",
              "\n",
              "    .dataframe tbody tr th {\n",
              "        vertical-align: top;\n",
              "    }\n",
              "\n",
              "    .dataframe thead th {\n",
              "        text-align: right;\n",
              "    }\n",
              "</style>\n",
              "<table border=\"1\" class=\"dataframe\">\n",
              "  <thead>\n",
              "    <tr style=\"text-align: right;\">\n",
              "      <th></th>\n",
              "      <th>features</th>\n",
              "      <th>descripts</th>\n",
              "    </tr>\n",
              "  </thead>\n",
              "  <tbody>\n",
              "    <tr>\n",
              "      <th>0</th>\n",
              "      <td>breadcrumb</td>\n",
              "      <td>A breadcrumb is a text trail that shows the us...</td>\n",
              "    </tr>\n",
              "    <tr>\n",
              "      <th>1</th>\n",
              "      <td>category_name</td>\n",
              "      <td>The name of the category that the listing belo...</td>\n",
              "    </tr>\n",
              "    <tr>\n",
              "      <th>2</th>\n",
              "      <td>property_type</td>\n",
              "      <td>The type of property being listed. (String)</td>\n",
              "    </tr>\n",
              "    <tr>\n",
              "      <th>3</th>\n",
              "      <td>building_size</td>\n",
              "      <td>The size of the property's building, in square...</td>\n",
              "    </tr>\n",
              "    <tr>\n",
              "      <th>4</th>\n",
              "      <td>land_size</td>\n",
              "      <td>The size of the property's land, in square met...</td>\n",
              "    </tr>\n",
              "    <tr>\n",
              "      <th>...</th>\n",
              "      <td>...</td>\n",
              "      <td>...</td>\n",
              "    </tr>\n",
              "    <tr>\n",
              "      <th>20</th>\n",
              "      <td>product_depth</td>\n",
              "      <td>The depth of the product. (Numeric)</td>\n",
              "    </tr>\n",
              "    <tr>\n",
              "      <th>21</th>\n",
              "      <td>bedroom_count</td>\n",
              "      <td>The number of bedrooms in the property. (Numeric)</td>\n",
              "    </tr>\n",
              "    <tr>\n",
              "      <th>22</th>\n",
              "      <td>bathroom_count</td>\n",
              "      <td>The number of bathrooms in the property. (Nume...</td>\n",
              "    </tr>\n",
              "    <tr>\n",
              "      <th>23</th>\n",
              "      <td>parking_count</td>\n",
              "      <td>The number of parking spaces in the property. ...</td>\n",
              "    </tr>\n",
              "    <tr>\n",
              "      <th>24</th>\n",
              "      <td>RunDate</td>\n",
              "      <td>The date that the listing was last updated. (D...</td>\n",
              "    </tr>\n",
              "  </tbody>\n",
              "</table>\n",
              "<p>25 rows × 2 columns</p>\n",
              "</div>\n",
              "      <button class=\"colab-df-convert\" onclick=\"convertToInteractive('df-2bca9e7c-6842-4441-b156-646d8db95ac2')\"\n",
              "              title=\"Convert this dataframe to an interactive table.\"\n",
              "              style=\"display:none;\">\n",
              "        \n",
              "  <svg xmlns=\"http://www.w3.org/2000/svg\" height=\"24px\"viewBox=\"0 0 24 24\"\n",
              "       width=\"24px\">\n",
              "    <path d=\"M0 0h24v24H0V0z\" fill=\"none\"/>\n",
              "    <path d=\"M18.56 5.44l.94 2.06.94-2.06 2.06-.94-2.06-.94-.94-2.06-.94 2.06-2.06.94zm-11 1L8.5 8.5l.94-2.06 2.06-.94-2.06-.94L8.5 2.5l-.94 2.06-2.06.94zm10 10l.94 2.06.94-2.06 2.06-.94-2.06-.94-.94-2.06-.94 2.06-2.06.94z\"/><path d=\"M17.41 7.96l-1.37-1.37c-.4-.4-.92-.59-1.43-.59-.52 0-1.04.2-1.43.59L10.3 9.45l-7.72 7.72c-.78.78-.78 2.05 0 2.83L4 21.41c.39.39.9.59 1.41.59.51 0 1.02-.2 1.41-.59l7.78-7.78 2.81-2.81c.8-.78.8-2.07 0-2.86zM5.41 20L4 18.59l7.72-7.72 1.47 1.35L5.41 20z\"/>\n",
              "  </svg>\n",
              "      </button>\n",
              "      \n",
              "  <style>\n",
              "    .colab-df-container {\n",
              "      display:flex;\n",
              "      flex-wrap:wrap;\n",
              "      gap: 12px;\n",
              "    }\n",
              "\n",
              "    .colab-df-convert {\n",
              "      background-color: #E8F0FE;\n",
              "      border: none;\n",
              "      border-radius: 50%;\n",
              "      cursor: pointer;\n",
              "      display: none;\n",
              "      fill: #1967D2;\n",
              "      height: 32px;\n",
              "      padding: 0 0 0 0;\n",
              "      width: 32px;\n",
              "    }\n",
              "\n",
              "    .colab-df-convert:hover {\n",
              "      background-color: #E2EBFA;\n",
              "      box-shadow: 0px 1px 2px rgba(60, 64, 67, 0.3), 0px 1px 3px 1px rgba(60, 64, 67, 0.15);\n",
              "      fill: #174EA6;\n",
              "    }\n",
              "\n",
              "    [theme=dark] .colab-df-convert {\n",
              "      background-color: #3B4455;\n",
              "      fill: #D2E3FC;\n",
              "    }\n",
              "\n",
              "    [theme=dark] .colab-df-convert:hover {\n",
              "      background-color: #434B5C;\n",
              "      box-shadow: 0px 1px 3px 1px rgba(0, 0, 0, 0.15);\n",
              "      filter: drop-shadow(0px 1px 2px rgba(0, 0, 0, 0.3));\n",
              "      fill: #FFFFFF;\n",
              "    }\n",
              "  </style>\n",
              "\n",
              "      <script>\n",
              "        const buttonEl =\n",
              "          document.querySelector('#df-2bca9e7c-6842-4441-b156-646d8db95ac2 button.colab-df-convert');\n",
              "        buttonEl.style.display =\n",
              "          google.colab.kernel.accessAllowed ? 'block' : 'none';\n",
              "\n",
              "        async function convertToInteractive(key) {\n",
              "          const element = document.querySelector('#df-2bca9e7c-6842-4441-b156-646d8db95ac2');\n",
              "          const dataTable =\n",
              "            await google.colab.kernel.invokeFunction('convertToInteractive',\n",
              "                                                     [key], {});\n",
              "          if (!dataTable) return;\n",
              "\n",
              "          const docLinkHtml = 'Like what you see? Visit the ' +\n",
              "            '<a target=\"_blank\" href=https://colab.research.google.com/notebooks/data_table.ipynb>data table notebook</a>'\n",
              "            + ' to learn more about interactive tables.';\n",
              "          element.innerHTML = '';\n",
              "          dataTable['output_type'] = 'display_data';\n",
              "          await google.colab.output.renderOutput(dataTable, element);\n",
              "          const docLink = document.createElement('div');\n",
              "          docLink.innerHTML = docLinkHtml;\n",
              "          element.appendChild(docLink);\n",
              "        }\n",
              "      </script>\n",
              "    </div>\n",
              "  </div>\n",
              "  "
            ]
          },
          "metadata": {},
          "execution_count": 1307
        }
      ]
    },
    {
      "cell_type": "code",
      "source": [
        "HP.set_index(\"TID\", inplace=True)\n",
        "    # 인덱스(행 번호)를 TID 열로 지정"
      ],
      "metadata": {
        "id": "wtPB6T8N3ckV"
      },
      "execution_count": 1308,
      "outputs": []
    },
    {
      "cell_type": "code",
      "source": [
        "HP.info()"
      ],
      "metadata": {
        "colab": {
          "base_uri": "https://localhost:8080/"
        },
        "id": "Pngk4Ew_4c4Z",
        "outputId": "903b62be-0fa9-49f2-df9a-3a9d0cc5ac6d"
      },
      "execution_count": 1309,
      "outputs": [
        {
          "output_type": "stream",
          "name": "stdout",
          "text": [
            "<class 'pandas.core.frame.DataFrame'>\n",
            "Int64Index: 1000 entries, 1350988 to 1351987\n",
            "Data columns (total 25 columns):\n",
            " #   Column           Non-Null Count  Dtype  \n",
            "---  ------           --------------  -----  \n",
            " 0   breadcrumb       1000 non-null   object \n",
            " 1   category_name    1000 non-null   object \n",
            " 2   property_type    1000 non-null   object \n",
            " 3   building_size    280 non-null    object \n",
            " 4   land_size        533 non-null    object \n",
            " 5   preferred_size   609 non-null    object \n",
            " 6   open_date        302 non-null    object \n",
            " 7   listing_agency   1000 non-null   object \n",
            " 8   price            1000 non-null   object \n",
            " 9   location_number  1000 non-null   int64  \n",
            " 10  location_type    1000 non-null   object \n",
            " 11  location_name    1000 non-null   object \n",
            " 12  address          988 non-null    object \n",
            " 13  address_1        988 non-null    object \n",
            " 14  city             1000 non-null   object \n",
            " 15  state            1000 non-null   object \n",
            " 16  zip_code         1000 non-null   int64  \n",
            " 17  phone            1000 non-null   object \n",
            " 18  latitude         0 non-null      float64\n",
            " 19  longitude        0 non-null      float64\n",
            " 20  product_depth    1000 non-null   object \n",
            " 21  bedroom_count    967 non-null    float64\n",
            " 22  bathroom_count   967 non-null    float64\n",
            " 23  parking_count    967 non-null    float64\n",
            " 24  RunDate          1000 non-null   object \n",
            "dtypes: float64(5), int64(2), object(18)\n",
            "memory usage: 203.1+ KB\n"
          ]
        }
      ]
    },
    {
      "cell_type": "code",
      "source": [
        "msno.bar(HP)"
      ],
      "metadata": {
        "colab": {
          "base_uri": "https://localhost:8080/",
          "height": 655
        },
        "id": "f4PKqa5W4hRB",
        "outputId": "501977ed-dbf6-47f6-994d-32c0a2f858a3"
      },
      "execution_count": 1310,
      "outputs": [
        {
          "output_type": "execute_result",
          "data": {
            "text/plain": [
              "<matplotlib.axes._subplots.AxesSubplot at 0x7f07a718a9d0>"
            ]
          },
          "metadata": {},
          "execution_count": 1310
        },
        {
          "output_type": "display_data",
          "data": {
            "text/plain": [
              "<Figure size 1800x720 with 3 Axes>"
            ],
            "image/png": "[encoded data removed]"
          },
          "metadata": {
            "needs_background": "light"
          }
        }
      ]
    },
    {
      "cell_type": "markdown",
      "source": [
        "문자열의 $ 제거 및 문자형에서 연속형으로 자료형 변환\n",
        "\n",
        "* building size\n",
        "* land_size\n",
        "* preferred_size\n",
        "* price\n",
        "* product_depth\n",
        "\n",
        "\n",
        "결측값 대체하는 보간법으로 MICE(다중대체법), KNN imputer(k-최근접 이웃 평균값), 다항식 다중선형회귀 예측값 중 선택\n",
        "* building size\n",
        "* land_size\n",
        "* preferred_size\n",
        "\n",
        "* bedroom_count\n",
        "* bathroom_count\n",
        "* parking_count\n",
        "\n",
        "결측값 대체가 어려운 변수의 행(관측값) 제거\n",
        "* address\n",
        "* address_1\n",
        "\n",
        "결측값 대체가 어려운 변수의 열 제거\n",
        "* open_date\n",
        "* latitude\n",
        "* longitude\n",
        "\n",
        "날짜형 변수인 RunDate의 시계열 데이터 결측값을 대체하는 보간법"
      ],
      "metadata": {
        "id": "blPKW5xnQXb8"
      }
    },
    {
      "cell_type": "code",
      "source": [
        "pd.set_option(\"display.max_columns\", None)\n",
        "HP"
      ],
      "metadata": {
        "colab": {
          "base_uri": "https://localhost:8080/",
          "height": 1000
        },
        "id": "X1DsxOgHhM5H",
        "outputId": "c2fc3301-75ea-4557-868b-6d20846f9164"
      },
      "execution_count": 1311,
      "outputs": [
        {
          "output_type": "execute_result",
          "data": {
            "text/plain": [
              "                 breadcrumb  \\\n",
              "TID                           \n",
              "1350988  Buy>NT>DARWIN CITY   \n",
              "1350989  Buy>NT>DARWIN CITY   \n",
              "1350990  Buy>NT>DARWIN CITY   \n",
              "1350991  Buy>NT>DARWIN CITY   \n",
              "1350992  Buy>NT>DARWIN CITY   \n",
              "...                     ...   \n",
              "1351983       Buy>NT>DARWIN   \n",
              "1351984       Buy>NT>DARWIN   \n",
              "1351985       Buy>NT>DARWIN   \n",
              "1351986       Buy>NT>DARWIN   \n",
              "1351987       Buy>NT>DARWIN   \n",
              "\n",
              "                                             category_name property_type  \\\n",
              "TID                                                                        \n",
              "1350988  Real Estate & Property for sale in DARWIN CITY...         House   \n",
              "1350989  Real Estate & Property for sale in DARWIN CITY...     Apartment   \n",
              "1350990  Real Estate & Property for sale in DARWIN CITY...          Unit   \n",
              "1350991  Real Estate & Property for sale in DARWIN CITY...         House   \n",
              "1350992  Real Estate & Property for sale in DARWIN CITY...          Unit   \n",
              "...                                                    ...           ...   \n",
              "1351983  Real Estate & Property for sale in DARWIN, NT ...         House   \n",
              "1351984  Real Estate & Property for sale in DARWIN, NT ...         House   \n",
              "1351985  Real Estate & Property for sale in DARWIN, NT ...         House   \n",
              "1351986  Real Estate & Property for sale in DARWIN, NT ...         House   \n",
              "1351987  Real Estate & Property for sale in DARWIN, NT ...          Unit   \n",
              "\n",
              "        building_size land_size preferred_size           open_date  \\\n",
              "TID                                                                  \n",
              "1350988           NaN       NaN            NaN   Added 2 hours ago   \n",
              "1350989         171m²       NaN          171m²   Added 7 hours ago   \n",
              "1350990           NaN       NaN            NaN  Added 22 hours ago   \n",
              "1350991           NaN       NaN            NaN     Added yesterday   \n",
              "1350992         201m²       NaN          201m²     Added yesterday   \n",
              "...               ...       ...            ...                 ...   \n",
              "1351983           NaN    9.17ha         9.17ha         Under offer   \n",
              "1351984         203m²     600m²          600m²                 NaN   \n",
              "1351985       209.6m²     800m²          800m²                 NaN   \n",
              "1351986         180m²     450m²          450m²                 NaN   \n",
              "1351987         120m²       NaN          120m²                 NaN   \n",
              "\n",
              "                                          listing_agency  \\\n",
              "TID                                                        \n",
              "1350988                      Professionals - DARWIN CITY   \n",
              "1350989  Nick Mousellis Real Estate - Eview Group Member   \n",
              "1350990                Habitat Real Estate - THE GARDENS   \n",
              "1350991                           Ray White - NIGHTCLIFF   \n",
              "1350992              Carol Need Real Estate - Fannie Bay   \n",
              "...                                                  ...   \n",
              "1351983                         United Realty NT - Parap   \n",
              "1351984           Kassiou Constructions - HOWARD SPRINGS   \n",
              "1351985           Kassiou Constructions - HOWARD SPRINGS   \n",
              "1351986           Kassiou Constructions - HOWARD SPRINGS   \n",
              "1351987                            Home Zone NT - DARWIN   \n",
              "\n",
              "                        price  location_number location_type  \\\n",
              "TID                                                            \n",
              "1350988              $435,000        139468611           Buy   \n",
              "1350989  Offers Over $320,000        139463755           Buy   \n",
              "1350990              $310,000        139462495           Buy   \n",
              "1350991              $259,000        139451679           Buy   \n",
              "1350992              $439,000        139433803           Buy   \n",
              "...                       ...              ...           ...   \n",
              "1351983           2 Residence        138346247           Buy   \n",
              "1351984              $601,000        138333062           Buy   \n",
              "1351985              $655,000        138333058           Buy   \n",
              "1351986              $675,000        138333050           Buy   \n",
              "1351987              $399,000        138330946           Buy   \n",
              "\n",
              "                location_name                                         address  \\\n",
              "TID                                                                             \n",
              "1350988              $435,000           44 Woods Street, Darwin City, NT 0800   \n",
              "1350989  Offers Over $320,000      14/14 Dashwood Place, Darwin City, NT 0800   \n",
              "1350990              $310,000       13/86  Woods Street, Darwin City, NT 0800   \n",
              "1350991              $259,000   1309/43B Knuckey Street, Darwin City, NT 0800   \n",
              "1350992              $439,000     3/10 McLachlan Street, Darwin City, NT 0800   \n",
              "...                       ...                                             ...   \n",
              "1351983           2 Residence                 70 Hinton Rd, Virginia, NT 0834   \n",
              "1351984              $601,000        Lot 6076 Gregg Road, Humpty Doo, NT 0836   \n",
              "1351985              $655,000  Lot 6031 Pankhurst Street, Humpty Doo, NT 0836   \n",
              "1351986              $675,000   Lot 12802 Aldenham Street, Lee Point, NT 0810   \n",
              "1351987              $399,000          8/35 Duke Street, Stuart Park, NT 0820   \n",
              "\n",
              "                         address_1         city state  zip_code         phone  \\\n",
              "TID                                                                             \n",
              "1350988            44 Woods Street  Darwin City    NT       800  08 8941 8289   \n",
              "1350989       14/14 Dashwood Place  Darwin City    NT       800    0411724000   \n",
              "1350990        13/86  Woods Street  Darwin City    NT       800  08 8981 0080   \n",
              "1350991    1309/43B Knuckey Street  Darwin City    NT       800  08 8982 2403   \n",
              "1350992      3/10 McLachlan Street  Darwin City    NT       800    0418885966   \n",
              "...                            ...          ...   ...       ...           ...   \n",
              "1351983               70 Hinton Rd     Virginia    NT       834  08 8981 2666   \n",
              "1351984        Lot 6076 Gregg Road   Humpty Doo    NT       836   08 89834326   \n",
              "1351985  Lot 6031 Pankhurst Street   Humpty Doo    NT       836   08 89834326   \n",
              "1351986  Lot 12802 Aldenham Street    Lee Point    NT       810   08 89834326   \n",
              "1351987           8/35 Duke Street  Stuart Park    NT       820  0418 895 345   \n",
              "\n",
              "         latitude  longitude product_depth  bedroom_count  bathroom_count  \\\n",
              "TID                                                                         \n",
              "1350988       NaN        NaN      premiere            2.0             1.0   \n",
              "1350989       NaN        NaN      premiere            3.0             2.0   \n",
              "1350990       NaN        NaN      premiere            2.0             1.0   \n",
              "1350991       NaN        NaN      premiere            1.0             1.0   \n",
              "1350992       NaN        NaN      premiere            3.0             2.0   \n",
              "...           ...        ...           ...            ...             ...   \n",
              "1351983       NaN        NaN       feature            4.0             3.0   \n",
              "1351984       NaN        NaN      standard            4.0             2.0   \n",
              "1351985       NaN        NaN      standard            4.0             2.0   \n",
              "1351986       NaN        NaN      standard            4.0             2.0   \n",
              "1351987       NaN        NaN       feature            2.0             2.0   \n",
              "\n",
              "         parking_count              RunDate  \n",
              "TID                                          \n",
              "1350988            1.0  2022-05-27 15:54:05  \n",
              "1350989            2.0  2022-05-27 15:54:05  \n",
              "1350990            1.0  2022-05-27 15:54:05  \n",
              "1350991            0.0  2022-05-27 15:54:05  \n",
              "1350992            2.0  2022-05-27 15:54:05  \n",
              "...                ...                  ...  \n",
              "1351983            6.0  2022-05-27 15:54:05  \n",
              "1351984            2.0  2022-05-27 15:54:05  \n",
              "1351985            2.0  2022-05-27 15:54:05  \n",
              "1351986            3.0  2022-05-27 15:54:05  \n",
              "1351987            2.0  2022-05-27 15:54:05  \n",
              "\n",
              "[1000 rows x 25 columns]"
            ],
            "text/html": [
              "\n",
              "  <div id=\"df-48afae57-0c82-4e7c-8362-4ad65388cd53\">\n",
              "    <div class=\"colab-df-container\">\n",
              "      <div>\n",
              "<style scoped>\n",
              "    .dataframe tbody tr th:only-of-type {\n",
              "        vertical-align: middle;\n",
              "    }\n",
              "\n",
              "    .dataframe tbody tr th {\n",
              "        vertical-align: top;\n",
              "    }\n",
              "\n",
              "    .dataframe thead th {\n",
              "        text-align: right;\n",
              "    }\n",
              "</style>\n",
              "<table border=\"1\" class=\"dataframe\">\n",
              "  <thead>\n",
              "    <tr style=\"text-align: right;\">\n",
              "      <th></th>\n",
              "      <th>breadcrumb</th>\n",
              "      <th>category_name</th>\n",
              "      <th>property_type</th>\n",
              "      <th>building_size</th>\n",
              "      <th>land_size</th>\n",
              "      <th>preferred_size</th>\n",
              "      <th>open_date</th>\n",
              "      <th>listing_agency</th>\n",
              "      <th>price</th>\n",
              "      <th>location_number</th>\n",
              "      <th>location_type</th>\n",
              "      <th>location_name</th>\n",
              "      <th>address</th>\n",
              "      <th>address_1</th>\n",
              "      <th>city</th>\n",
              "      <th>state</th>\n",
              "      <th>zip_code</th>\n",
              "      <th>phone</th>\n",
              "      <th>latitude</th>\n",
              "      <th>longitude</th>\n",
              "      <th>product_depth</th>\n",
              "      <th>bedroom_count</th>\n",
              "      <th>bathroom_count</th>\n",
              "      <th>parking_count</th>\n",
              "      <th>RunDate</th>\n",
              "    </tr>\n",
              "    <tr>\n",
              "      <th>TID</th>\n",
              "      <th></th>\n",
              "      <th></th>\n",
              "      <th></th>\n",
              "      <th></th>\n",
              "      <th></th>\n",
              "      <th></th>\n",
              "      <th></th>\n",
              "      <th></th>\n",
              "      <th></th>\n",
              "      <th></th>\n",
              "      <th></th>\n",
              "      <th></th>\n",
              "      <th></th>\n",
              "      <th></th>\n",
              "      <th></th>\n",
              "      <th></th>\n",
              "      <th></th>\n",
              "      <th></th>\n",
              "      <th></th>\n",
              "      <th></th>\n",
              "      <th></th>\n",
              "      <th></th>\n",
              "      <th></th>\n",
              "      <th></th>\n",
              "      <th></th>\n",
              "    </tr>\n",
              "  </thead>\n",
              "  <tbody>\n",
              "    <tr>\n",
              "      <th>1350988</th>\n",
              "      <td>Buy&gt;NT&gt;DARWIN CITY</td>\n",
              "      <td>Real Estate &amp; Property for sale in DARWIN CITY...</td>\n",
              "      <td>House</td>\n",
              "      <td>NaN</td>\n",
              "      <td>NaN</td>\n",
              "      <td>NaN</td>\n",
              "      <td>Added 2 hours ago</td>\n",
              "      <td>Professionals - DARWIN CITY</td>\n",
              "      <td>$435,000</td>\n",
              "      <td>139468611</td>\n",
              "      <td>Buy</td>\n",
              "      <td>$435,000</td>\n",
              "      <td>44 Woods Street, Darwin City, NT 0800</td>\n",
              "      <td>44 Woods Street</td>\n",
              "      <td>Darwin City</td>\n",
              "      <td>NT</td>\n",
              "      <td>800</td>\n",
              "      <td>08 8941 8289</td>\n",
              "      <td>NaN</td>\n",
              "      <td>NaN</td>\n",
              "      <td>premiere</td>\n",
              "      <td>2.0</td>\n",
              "      <td>1.0</td>\n",
              "      <td>1.0</td>\n",
              "      <td>2022-05-27 15:54:05</td>\n",
              "    </tr>\n",
              "    <tr>\n",
              "      <th>1350989</th>\n",
              "      <td>Buy&gt;NT&gt;DARWIN CITY</td>\n",
              "      <td>Real Estate &amp; Property for sale in DARWIN CITY...</td>\n",
              "      <td>Apartment</td>\n",
              "      <td>171m²</td>\n",
              "      <td>NaN</td>\n",
              "      <td>171m²</td>\n",
              "      <td>Added 7 hours ago</td>\n",
              "      <td>Nick Mousellis Real Estate - Eview Group Member</td>\n",
              "      <td>Offers Over $320,000</td>\n",
              "      <td>139463755</td>\n",
              "      <td>Buy</td>\n",
              "      <td>Offers Over $320,000</td>\n",
              "      <td>14/14 Dashwood Place, Darwin City, NT 0800</td>\n",
              "      <td>14/14 Dashwood Place</td>\n",
              "      <td>Darwin City</td>\n",
              "      <td>NT</td>\n",
              "      <td>800</td>\n",
              "      <td>0411724000</td>\n",
              "      <td>NaN</td>\n",
              "      <td>NaN</td>\n",
              "      <td>premiere</td>\n",
              "      <td>3.0</td>\n",
              "      <td>2.0</td>\n",
              "      <td>2.0</td>\n",
              "      <td>2022-05-27 15:54:05</td>\n",
              "    </tr>\n",
              "    <tr>\n",
              "      <th>1350990</th>\n",
              "      <td>Buy&gt;NT&gt;DARWIN CITY</td>\n",
              "      <td>Real Estate &amp; Property for sale in DARWIN CITY...</td>\n",
              "      <td>Unit</td>\n",
              "      <td>NaN</td>\n",
              "      <td>NaN</td>\n",
              "      <td>NaN</td>\n",
              "      <td>Added 22 hours ago</td>\n",
              "      <td>Habitat Real Estate - THE GARDENS</td>\n",
              "      <td>$310,000</td>\n",
              "      <td>139462495</td>\n",
              "      <td>Buy</td>\n",
              "      <td>$310,000</td>\n",
              "      <td>13/86  Woods Street, Darwin City, NT 0800</td>\n",
              "      <td>13/86  Woods Street</td>\n",
              "      <td>Darwin City</td>\n",
              "      <td>NT</td>\n",
              "      <td>800</td>\n",
              "      <td>08 8981 0080</td>\n",
              "      <td>NaN</td>\n",
              "      <td>NaN</td>\n",
              "      <td>premiere</td>\n",
              "      <td>2.0</td>\n",
              "      <td>1.0</td>\n",
              "      <td>1.0</td>\n",
              "      <td>2022-05-27 15:54:05</td>\n",
              "    </tr>\n",
              "    <tr>\n",
              "      <th>1350991</th>\n",
              "      <td>Buy&gt;NT&gt;DARWIN CITY</td>\n",
              "      <td>Real Estate &amp; Property for sale in DARWIN CITY...</td>\n",
              "      <td>House</td>\n",
              "      <td>NaN</td>\n",
              "      <td>NaN</td>\n",
              "      <td>NaN</td>\n",
              "      <td>Added yesterday</td>\n",
              "      <td>Ray White - NIGHTCLIFF</td>\n",
              "      <td>$259,000</td>\n",
              "      <td>139451679</td>\n",
              "      <td>Buy</td>\n",
              "      <td>$259,000</td>\n",
              "      <td>1309/43B Knuckey Street, Darwin City, NT 0800</td>\n",
              "      <td>1309/43B Knuckey Street</td>\n",
              "      <td>Darwin City</td>\n",
              "      <td>NT</td>\n",
              "      <td>800</td>\n",
              "      <td>08 8982 2403</td>\n",
              "      <td>NaN</td>\n",
              "      <td>NaN</td>\n",
              "      <td>premiere</td>\n",
              "      <td>1.0</td>\n",
              "      <td>1.0</td>\n",
              "      <td>0.0</td>\n",
              "      <td>2022-05-27 15:54:05</td>\n",
              "    </tr>\n",
              "    <tr>\n",
              "      <th>1350992</th>\n",
              "      <td>Buy&gt;NT&gt;DARWIN CITY</td>\n",
              "      <td>Real Estate &amp; Property for sale in DARWIN CITY...</td>\n",
              "      <td>Unit</td>\n",
              "      <td>201m²</td>\n",
              "      <td>NaN</td>\n",
              "      <td>201m²</td>\n",
              "      <td>Added yesterday</td>\n",
              "      <td>Carol Need Real Estate - Fannie Bay</td>\n",
              "      <td>$439,000</td>\n",
              "      <td>139433803</td>\n",
              "      <td>Buy</td>\n",
              "      <td>$439,000</td>\n",
              "      <td>3/10 McLachlan Street, Darwin City, NT 0800</td>\n",
              "      <td>3/10 McLachlan Street</td>\n",
              "      <td>Darwin City</td>\n",
              "      <td>NT</td>\n",
              "      <td>800</td>\n",
              "      <td>0418885966</td>\n",
              "      <td>NaN</td>\n",
              "      <td>NaN</td>\n",
              "      <td>premiere</td>\n",
              "      <td>3.0</td>\n",
              "      <td>2.0</td>\n",
              "      <td>2.0</td>\n",
              "      <td>2022-05-27 15:54:05</td>\n",
              "    </tr>\n",
              "    <tr>\n",
              "      <th>...</th>\n",
              "      <td>...</td>\n",
              "      <td>...</td>\n",
              "      <td>...</td>\n",
              "      <td>...</td>\n",
              "      <td>...</td>\n",
              "      <td>...</td>\n",
              "      <td>...</td>\n",
              "      <td>...</td>\n",
              "      <td>...</td>\n",
              "      <td>...</td>\n",
              "      <td>...</td>\n",
              "      <td>...</td>\n",
              "      <td>...</td>\n",
              "      <td>...</td>\n",
              "      <td>...</td>\n",
              "      <td>...</td>\n",
              "      <td>...</td>\n",
              "      <td>...</td>\n",
              "      <td>...</td>\n",
              "      <td>...</td>\n",
              "      <td>...</td>\n",
              "      <td>...</td>\n",
              "      <td>...</td>\n",
              "      <td>...</td>\n",
              "      <td>...</td>\n",
              "    </tr>\n",
              "    <tr>\n",
              "      <th>1351983</th>\n",
              "      <td>Buy&gt;NT&gt;DARWIN</td>\n",
              "      <td>Real Estate &amp; Property for sale in DARWIN, NT ...</td>\n",
              "      <td>House</td>\n",
              "      <td>NaN</td>\n",
              "      <td>9.17ha</td>\n",
              "      <td>9.17ha</td>\n",
              "      <td>Under offer</td>\n",
              "      <td>United Realty NT - Parap</td>\n",
              "      <td>2 Residence</td>\n",
              "      <td>138346247</td>\n",
              "      <td>Buy</td>\n",
              "      <td>2 Residence</td>\n",
              "      <td>70 Hinton Rd, Virginia, NT 0834</td>\n",
              "      <td>70 Hinton Rd</td>\n",
              "      <td>Virginia</td>\n",
              "      <td>NT</td>\n",
              "      <td>834</td>\n",
              "      <td>08 8981 2666</td>\n",
              "      <td>NaN</td>\n",
              "      <td>NaN</td>\n",
              "      <td>feature</td>\n",
              "      <td>4.0</td>\n",
              "      <td>3.0</td>\n",
              "      <td>6.0</td>\n",
              "      <td>2022-05-27 15:54:05</td>\n",
              "    </tr>\n",
              "    <tr>\n",
              "      <th>1351984</th>\n",
              "      <td>Buy&gt;NT&gt;DARWIN</td>\n",
              "      <td>Real Estate &amp; Property for sale in DARWIN, NT ...</td>\n",
              "      <td>House</td>\n",
              "      <td>203m²</td>\n",
              "      <td>600m²</td>\n",
              "      <td>600m²</td>\n",
              "      <td>NaN</td>\n",
              "      <td>Kassiou Constructions - HOWARD SPRINGS</td>\n",
              "      <td>$601,000</td>\n",
              "      <td>138333062</td>\n",
              "      <td>Buy</td>\n",
              "      <td>$601,000</td>\n",
              "      <td>Lot 6076 Gregg Road, Humpty Doo, NT 0836</td>\n",
              "      <td>Lot 6076 Gregg Road</td>\n",
              "      <td>Humpty Doo</td>\n",
              "      <td>NT</td>\n",
              "      <td>836</td>\n",
              "      <td>08 89834326</td>\n",
              "      <td>NaN</td>\n",
              "      <td>NaN</td>\n",
              "      <td>standard</td>\n",
              "      <td>4.0</td>\n",
              "      <td>2.0</td>\n",
              "      <td>2.0</td>\n",
              "      <td>2022-05-27 15:54:05</td>\n",
              "    </tr>\n",
              "    <tr>\n",
              "      <th>1351985</th>\n",
              "      <td>Buy&gt;NT&gt;DARWIN</td>\n",
              "      <td>Real Estate &amp; Property for sale in DARWIN, NT ...</td>\n",
              "      <td>House</td>\n",
              "      <td>209.6m²</td>\n",
              "      <td>800m²</td>\n",
              "      <td>800m²</td>\n",
              "      <td>NaN</td>\n",
              "      <td>Kassiou Constructions - HOWARD SPRINGS</td>\n",
              "      <td>$655,000</td>\n",
              "      <td>138333058</td>\n",
              "      <td>Buy</td>\n",
              "      <td>$655,000</td>\n",
              "      <td>Lot 6031 Pankhurst Street, Humpty Doo, NT 0836</td>\n",
              "      <td>Lot 6031 Pankhurst Street</td>\n",
              "      <td>Humpty Doo</td>\n",
              "      <td>NT</td>\n",
              "      <td>836</td>\n",
              "      <td>08 89834326</td>\n",
              "      <td>NaN</td>\n",
              "      <td>NaN</td>\n",
              "      <td>standard</td>\n",
              "      <td>4.0</td>\n",
              "      <td>2.0</td>\n",
              "      <td>2.0</td>\n",
              "      <td>2022-05-27 15:54:05</td>\n",
              "    </tr>\n",
              "    <tr>\n",
              "      <th>1351986</th>\n",
              "      <td>Buy&gt;NT&gt;DARWIN</td>\n",
              "      <td>Real Estate &amp; Property for sale in DARWIN, NT ...</td>\n",
              "      <td>House</td>\n",
              "      <td>180m²</td>\n",
              "      <td>450m²</td>\n",
              "      <td>450m²</td>\n",
              "      <td>NaN</td>\n",
              "      <td>Kassiou Constructions - HOWARD SPRINGS</td>\n",
              "      <td>$675,000</td>\n",
              "      <td>138333050</td>\n",
              "      <td>Buy</td>\n",
              "      <td>$675,000</td>\n",
              "      <td>Lot 12802 Aldenham Street, Lee Point, NT 0810</td>\n",
              "      <td>Lot 12802 Aldenham Street</td>\n",
              "      <td>Lee Point</td>\n",
              "      <td>NT</td>\n",
              "      <td>810</td>\n",
              "      <td>08 89834326</td>\n",
              "      <td>NaN</td>\n",
              "      <td>NaN</td>\n",
              "      <td>standard</td>\n",
              "      <td>4.0</td>\n",
              "      <td>2.0</td>\n",
              "      <td>3.0</td>\n",
              "      <td>2022-05-27 15:54:05</td>\n",
              "    </tr>\n",
              "    <tr>\n",
              "      <th>1351987</th>\n",
              "      <td>Buy&gt;NT&gt;DARWIN</td>\n",
              "      <td>Real Estate &amp; Property for sale in DARWIN, NT ...</td>\n",
              "      <td>Unit</td>\n",
              "      <td>120m²</td>\n",
              "      <td>NaN</td>\n",
              "      <td>120m²</td>\n",
              "      <td>NaN</td>\n",
              "      <td>Home Zone NT - DARWIN</td>\n",
              "      <td>$399,000</td>\n",
              "      <td>138330946</td>\n",
              "      <td>Buy</td>\n",
              "      <td>$399,000</td>\n",
              "      <td>8/35 Duke Street, Stuart Park, NT 0820</td>\n",
              "      <td>8/35 Duke Street</td>\n",
              "      <td>Stuart Park</td>\n",
              "      <td>NT</td>\n",
              "      <td>820</td>\n",
              "      <td>0418 895 345</td>\n",
              "      <td>NaN</td>\n",
              "      <td>NaN</td>\n",
              "      <td>feature</td>\n",
              "      <td>2.0</td>\n",
              "      <td>2.0</td>\n",
              "      <td>2.0</td>\n",
              "      <td>2022-05-27 15:54:05</td>\n",
              "    </tr>\n",
              "  </tbody>\n",
              "</table>\n",
              "<p>1000 rows × 25 columns</p>\n",
              "</div>\n",
              "      <button class=\"colab-df-convert\" onclick=\"convertToInteractive('df-48afae57-0c82-4e7c-8362-4ad65388cd53')\"\n",
              "              title=\"Convert this dataframe to an interactive table.\"\n",
              "              style=\"display:none;\">\n",
              "        \n",
              "  <svg xmlns=\"http://www.w3.org/2000/svg\" height=\"24px\"viewBox=\"0 0 24 24\"\n",
              "       width=\"24px\">\n",
              "    <path d=\"M0 0h24v24H0V0z\" fill=\"none\"/>\n",
              "    <path d=\"M18.56 5.44l.94 2.06.94-2.06 2.06-.94-2.06-.94-.94-2.06-.94 2.06-2.06.94zm-11 1L8.5 8.5l.94-2.06 2.06-.94-2.06-.94L8.5 2.5l-.94 2.06-2.06.94zm10 10l.94 2.06.94-2.06 2.06-.94-2.06-.94-.94-2.06-.94 2.06-2.06.94z\"/><path d=\"M17.41 7.96l-1.37-1.37c-.4-.4-.92-.59-1.43-.59-.52 0-1.04.2-1.43.59L10.3 9.45l-7.72 7.72c-.78.78-.78 2.05 0 2.83L4 21.41c.39.39.9.59 1.41.59.51 0 1.02-.2 1.41-.59l7.78-7.78 2.81-2.81c.8-.78.8-2.07 0-2.86zM5.41 20L4 18.59l7.72-7.72 1.47 1.35L5.41 20z\"/>\n",
              "  </svg>\n",
              "      </button>\n",
              "      \n",
              "  <style>\n",
              "    .colab-df-container {\n",
              "      display:flex;\n",
              "      flex-wrap:wrap;\n",
              "      gap: 12px;\n",
              "    }\n",
              "\n",
              "    .colab-df-convert {\n",
              "      background-color: #E8F0FE;\n",
              "      border: none;\n",
              "      border-radius: 50%;\n",
              "      cursor: pointer;\n",
              "      display: none;\n",
              "      fill: #1967D2;\n",
              "      height: 32px;\n",
              "      padding: 0 0 0 0;\n",
              "      width: 32px;\n",
              "    }\n",
              "\n",
              "    .colab-df-convert:hover {\n",
              "      background-color: #E2EBFA;\n",
              "      box-shadow: 0px 1px 2px rgba(60, 64, 67, 0.3), 0px 1px 3px 1px rgba(60, 64, 67, 0.15);\n",
              "      fill: #174EA6;\n",
              "    }\n",
              "\n",
              "    [theme=dark] .colab-df-convert {\n",
              "      background-color: #3B4455;\n",
              "      fill: #D2E3FC;\n",
              "    }\n",
              "\n",
              "    [theme=dark] .colab-df-convert:hover {\n",
              "      background-color: #434B5C;\n",
              "      box-shadow: 0px 1px 3px 1px rgba(0, 0, 0, 0.15);\n",
              "      filter: drop-shadow(0px 1px 2px rgba(0, 0, 0, 0.3));\n",
              "      fill: #FFFFFF;\n",
              "    }\n",
              "  </style>\n",
              "\n",
              "      <script>\n",
              "        const buttonEl =\n",
              "          document.querySelector('#df-48afae57-0c82-4e7c-8362-4ad65388cd53 button.colab-df-convert');\n",
              "        buttonEl.style.display =\n",
              "          google.colab.kernel.accessAllowed ? 'block' : 'none';\n",
              "\n",
              "        async function convertToInteractive(key) {\n",
              "          const element = document.querySelector('#df-48afae57-0c82-4e7c-8362-4ad65388cd53');\n",
              "          const dataTable =\n",
              "            await google.colab.kernel.invokeFunction('convertToInteractive',\n",
              "                                                     [key], {});\n",
              "          if (!dataTable) return;\n",
              "\n",
              "          const docLinkHtml = 'Like what you see? Visit the ' +\n",
              "            '<a target=\"_blank\" href=https://colab.research.google.com/notebooks/data_table.ipynb>data table notebook</a>'\n",
              "            + ' to learn more about interactive tables.';\n",
              "          element.innerHTML = '';\n",
              "          dataTable['output_type'] = 'display_data';\n",
              "          await google.colab.output.renderOutput(dataTable, element);\n",
              "          const docLink = document.createElement('div');\n",
              "          docLink.innerHTML = docLinkHtml;\n",
              "          element.appendChild(docLink);\n",
              "        }\n",
              "      </script>\n",
              "    </div>\n",
              "  </div>\n",
              "  "
            ]
          },
          "metadata": {},
          "execution_count": 1311
        }
      ]
    },
    {
      "cell_type": "markdown",
      "source": [
        "#### 결측값 대체가 어려운 변수의 열 제거\n",
        "* open_date\n",
        "* latitude\n",
        "* longitude"
      ],
      "metadata": {
        "id": "H0JZhCOnqcaE"
      }
    },
    {
      "cell_type": "code",
      "source": [
        "HP.drop([\"open_date\", \"latitude\", \"longitude\"], axis = 1, inplace = True)\n",
        "    # 결측값 대체가 어려운 변수 제거"
      ],
      "metadata": {
        "id": "W6HVgnp4Sgur"
      },
      "execution_count": 1312,
      "outputs": []
    },
    {
      "cell_type": "code",
      "source": [],
      "metadata": {
        "id": "MbI6g_F8qdGT"
      },
      "execution_count": 1312,
      "outputs": []
    },
    {
      "cell_type": "markdown",
      "source": [
        "### 문자열의 $ 제거 및 문자형에서 연속형으로 자료형 변환\n",
        "\n",
        "* building size\n",
        "* land_size\n",
        "* preferred_size\n",
        "* price\n",
        "* product_depth"
      ],
      "metadata": {
        "id": "03lzVsUQqf2C"
      }
    },
    {
      "cell_type": "code",
      "source": [
        "HP.building_size.unique"
      ],
      "metadata": {
        "colab": {
          "base_uri": "https://localhost:8080/"
        },
        "id": "_Zs66Fy_hndl",
        "outputId": "8b4309f8-7be6-4959-bb8d-f9768a726790"
      },
      "execution_count": 1313,
      "outputs": [
        {
          "output_type": "execute_result",
          "data": {
            "text/plain": [
              "<bound method Series.unique of TID\n",
              "1350988        NaN\n",
              "1350989      171m²\n",
              "1350990        NaN\n",
              "1350991        NaN\n",
              "1350992      201m²\n",
              "            ...   \n",
              "1351983        NaN\n",
              "1351984      203m²\n",
              "1351985    209.6m²\n",
              "1351986      180m²\n",
              "1351987      120m²\n",
              "Name: building_size, Length: 1000, dtype: object>"
            ]
          },
          "metadata": {},
          "execution_count": 1313
        }
      ]
    },
    {
      "cell_type": "code",
      "source": [
        "pd.set_option(\"display.max_row\", 10)\n",
        "HP.building_size.str.extract(r\"(ha)\") == True\n",
        "  # HP 데이터프레임의 building_size 열의 r\"(ha)\" 헥타르가 포함된 행 출력 (True False)\n",
        "HP[\"building_size\"] = HP[\"building_size\"].str.replace(\"m²\", \"\")\n",
        "HP[\"building_size\"] = HP[\"building_size\"].str.replace(\",\", \"\")\n",
        "  # 헥타르가 포함된 행 없으므로 (False) m²단위 제거하고 float로 자료형 변환\n",
        "HP[\"building_size\"] = HP[\"building_size\"].astype(\"float\")"
      ],
      "metadata": {
        "id": "BiIFnwWkgMTY"
      },
      "execution_count": 1314,
      "outputs": []
    },
    {
      "cell_type": "code",
      "source": [
        "HP[\"land_size\"] = HP[\"land_size\"].str.replace(\"m²\", \"\")"
      ],
      "metadata": {
        "id": "FPD1SNLwiZim"
      },
      "execution_count": 1315,
      "outputs": []
    },
    {
      "cell_type": "code",
      "source": [
        "HP[\"land_size\"] = HP[\"land_size\"].str.replace(\",\", \"\")"
      ],
      "metadata": {
        "id": "CSyqibz3nSrz"
      },
      "execution_count": 1316,
      "outputs": []
    },
    {
      "cell_type": "code",
      "source": [
        "HP.land_size.str.contains(r\"(m²)\")"
      ],
      "metadata": {
        "colab": {
          "base_uri": "https://localhost:8080/"
        },
        "id": "KNCo2DR-lH8R",
        "outputId": "2766a86f-4656-475a-8314-9b75c7798354"
      },
      "execution_count": 1317,
      "outputs": [
        {
          "output_type": "stream",
          "name": "stderr",
          "text": [
            "<ipython-input-1317-1cf467fc879d>:1: UserWarning: This pattern has match groups. To actually get the groups, use str.extract.\n",
            "  HP.land_size.str.contains(r\"(m²)\")\n"
          ]
        },
        {
          "output_type": "execute_result",
          "data": {
            "text/plain": [
              "TID\n",
              "1350988      NaN\n",
              "1350989      NaN\n",
              "1350990      NaN\n",
              "1350991      NaN\n",
              "1350992      NaN\n",
              "           ...  \n",
              "1351983    False\n",
              "1351984    False\n",
              "1351985    False\n",
              "1351986    False\n",
              "1351987      NaN\n",
              "Name: land_size, Length: 1000, dtype: object"
            ]
          },
          "metadata": {},
          "execution_count": 1317
        }
      ]
    },
    {
      "cell_type": "code",
      "source": [
        "HP[\"preferred_size\"] = HP[\"preferred_size\"].str.replace(\"m²\", \"\")"
      ],
      "metadata": {
        "id": "zvJSPk6qnMuX"
      },
      "execution_count": 1318,
      "outputs": []
    },
    {
      "cell_type": "code",
      "source": [
        "HP[\"preferred_size\"] = HP[\"preferred_size\"].str.replace(\",\", \"\")"
      ],
      "metadata": {
        "id": "QQzthJRQnWni"
      },
      "execution_count": 1319,
      "outputs": []
    },
    {
      "cell_type": "code",
      "source": [
        "pd.set_option(\"display.max_row\", None)\n",
        "HP[HP.land_size.str.contains(r\"(ha)\") == True].index.values\n",
        "    # ha와 m²의 단위 차이\n",
        "    # 헥타르(hectare, ㏊)는 10,000 제곱미터(100m×100m)\n",
        "    # 헥타르 단위의 land_size 또는 preferred_size를 이상치로 판정하고 결측값 NaN 처리"
      ],
      "metadata": {
        "colab": {
          "base_uri": "https://localhost:8080/"
        },
        "id": "B5x9oNRZiYF2",
        "outputId": "a9eb6b73-d959-4cb4-a7df-89204df37fe9"
      },
      "execution_count": 1320,
      "outputs": [
        {
          "output_type": "stream",
          "name": "stderr",
          "text": [
            "<ipython-input-1320-dadee000b892>:2: UserWarning: This pattern has match groups. To actually get the groups, use str.extract.\n",
            "  HP[HP.land_size.str.contains(r\"(ha)\") == True].index.values\n"
          ]
        },
        {
          "output_type": "execute_result",
          "data": {
            "text/plain": [
              "array([1351134, 1351186, 1351197, 1351248, 1351263, 1351279, 1351283,\n",
              "       1351306, 1351312, 1351326, 1351332, 1351334, 1351340, 1351345,\n",
              "       1351364, 1351373, 1351391, 1351392, 1351415, 1351479, 1351527,\n",
              "       1351550, 1351553, 1351557, 1351582, 1351595, 1351607, 1351628,\n",
              "       1351632, 1351658, 1351659, 1351662, 1351677, 1351699, 1351739,\n",
              "       1351777, 1351815, 1351934, 1351936, 1351937, 1351942, 1351957,\n",
              "       1351962, 1351969, 1351983])"
            ]
          },
          "metadata": {},
          "execution_count": 1320
        }
      ]
    },
    {
      "cell_type": "code",
      "source": [
        "land_size_ha = HP[HP.land_size.str.contains(r\"(ha)\") == True].index.values"
      ],
      "metadata": {
        "colab": {
          "base_uri": "https://localhost:8080/"
        },
        "id": "W26w6uZxmiEr",
        "outputId": "11c63d33-d713-42a1-a50d-77782db763af"
      },
      "execution_count": 1321,
      "outputs": [
        {
          "output_type": "stream",
          "name": "stderr",
          "text": [
            "<ipython-input-1321-1a0de7b4bb02>:1: UserWarning: This pattern has match groups. To actually get the groups, use str.extract.\n",
            "  land_size_ha = HP[HP.land_size.str.contains(r\"(ha)\") == True].index.values\n"
          ]
        }
      ]
    },
    {
      "cell_type": "code",
      "source": [
        "len(land_size_ha)"
      ],
      "metadata": {
        "colab": {
          "base_uri": "https://localhost:8080/"
        },
        "id": "tkRO78_Mn7n3",
        "outputId": "86848146-f2bc-4625-c3e4-71b73689df78"
      },
      "execution_count": 1322,
      "outputs": [
        {
          "output_type": "execute_result",
          "data": {
            "text/plain": [
              "45"
            ]
          },
          "metadata": {},
          "execution_count": 1322
        }
      ]
    },
    {
      "cell_type": "code",
      "source": [
        "HP[HP.preferred_size.str.contains(r\"(ha)\") == True].index.values"
      ],
      "metadata": {
        "colab": {
          "base_uri": "https://localhost:8080/"
        },
        "id": "yfM2R7lAlDL6",
        "outputId": "2c362756-2e06-4c29-b265-4f8ca22d1c1f"
      },
      "execution_count": 1323,
      "outputs": [
        {
          "output_type": "stream",
          "name": "stderr",
          "text": [
            "<ipython-input-1323-3bd4a3c0c02a>:1: UserWarning: This pattern has match groups. To actually get the groups, use str.extract.\n",
            "  HP[HP.preferred_size.str.contains(r\"(ha)\") == True].index.values\n"
          ]
        },
        {
          "output_type": "execute_result",
          "data": {
            "text/plain": [
              "array([1351186, 1351197, 1351248, 1351263, 1351279, 1351283, 1351306,\n",
              "       1351312, 1351326, 1351332, 1351334, 1351340, 1351345, 1351364,\n",
              "       1351373, 1351391, 1351392, 1351415, 1351479, 1351527, 1351550,\n",
              "       1351553, 1351557, 1351582, 1351595, 1351607, 1351628, 1351632,\n",
              "       1351658, 1351659, 1351662, 1351677, 1351699, 1351739, 1351777,\n",
              "       1351815, 1351934, 1351936, 1351937, 1351942, 1351957, 1351962,\n",
              "       1351969, 1351983])"
            ]
          },
          "metadata": {},
          "execution_count": 1323
        }
      ]
    },
    {
      "cell_type": "code",
      "source": [
        "preferred_size_ha = HP[HP.preferred_size.str.contains(r\"(ha)\") == True].index.values"
      ],
      "metadata": {
        "colab": {
          "base_uri": "https://localhost:8080/"
        },
        "id": "1JmCaIJkm38T",
        "outputId": "d12ac8ec-ef94-444b-cb9c-f014e527095b"
      },
      "execution_count": 1324,
      "outputs": [
        {
          "output_type": "stream",
          "name": "stderr",
          "text": [
            "<ipython-input-1324-1564dd04db57>:1: UserWarning: This pattern has match groups. To actually get the groups, use str.extract.\n",
            "  preferred_size_ha = HP[HP.preferred_size.str.contains(r\"(ha)\") == True].index.values\n"
          ]
        }
      ]
    },
    {
      "cell_type": "code",
      "source": [
        "len(preferred_size_ha)"
      ],
      "metadata": {
        "colab": {
          "base_uri": "https://localhost:8080/"
        },
        "id": "4Wxwvr1GoNE5",
        "outputId": "b12579a5-7c36-4b59-9d8d-22d1eb09ecb1"
      },
      "execution_count": 1325,
      "outputs": [
        {
          "output_type": "execute_result",
          "data": {
            "text/plain": [
              "44"
            ]
          },
          "metadata": {},
          "execution_count": 1325
        }
      ]
    },
    {
      "cell_type": "code",
      "source": [
        "land_size_ha_list = []\n",
        "\n",
        "for i in range(0, 45, 1):\n",
        "    land_size_ha_list.append(land_size_ha[i])\n",
        "    if i == 44: \n",
        "      print(type(land_size_ha_list))\n",
        "      print(land_size_ha_list)\n",
        "    else: pass"
      ],
      "metadata": {
        "colab": {
          "base_uri": "https://localhost:8080/"
        },
        "id": "BqwboTHfnfqa",
        "outputId": "2375ac00-4bc4-4742-c204-fb060fdbd18c"
      },
      "execution_count": 1326,
      "outputs": [
        {
          "output_type": "stream",
          "name": "stdout",
          "text": [
            "<class 'list'>\n",
            "[1351134, 1351186, 1351197, 1351248, 1351263, 1351279, 1351283, 1351306, 1351312, 1351326, 1351332, 1351334, 1351340, 1351345, 1351364, 1351373, 1351391, 1351392, 1351415, 1351479, 1351527, 1351550, 1351553, 1351557, 1351582, 1351595, 1351607, 1351628, 1351632, 1351658, 1351659, 1351662, 1351677, 1351699, 1351739, 1351777, 1351815, 1351934, 1351936, 1351937, 1351942, 1351957, 1351962, 1351969, 1351983]\n"
          ]
        }
      ]
    },
    {
      "cell_type": "code",
      "source": [
        "preferred_size_ha_list = []\n",
        "\n",
        "for i in range(0, 44, 1):\n",
        "    preferred_size_ha_list.append(preferred_size_ha[i])\n",
        "    if i == 43: \n",
        "      print(type(preferred_size_ha_list))\n",
        "      print(preferred_size_ha_list)\n",
        "    else: pass"
      ],
      "metadata": {
        "colab": {
          "base_uri": "https://localhost:8080/"
        },
        "id": "RKyw5RAFoIzM",
        "outputId": "0dd3ecd8-65ef-435f-8d16-45036b2e76fc"
      },
      "execution_count": 1327,
      "outputs": [
        {
          "output_type": "stream",
          "name": "stdout",
          "text": [
            "<class 'list'>\n",
            "[1351186, 1351197, 1351248, 1351263, 1351279, 1351283, 1351306, 1351312, 1351326, 1351332, 1351334, 1351340, 1351345, 1351364, 1351373, 1351391, 1351392, 1351415, 1351479, 1351527, 1351550, 1351553, 1351557, 1351582, 1351595, 1351607, 1351628, 1351632, 1351658, 1351659, 1351662, 1351677, 1351699, 1351739, 1351777, 1351815, 1351934, 1351936, 1351937, 1351942, 1351957, 1351962, 1351969, 1351983]\n"
          ]
        }
      ]
    },
    {
      "cell_type": "code",
      "source": [
        "# [x for y in land_size_ha_list for x in preferred_size_ha_list if y in x]  \n",
        "    # 두 리스트의 공통된 행 번호 추출\n",
        "    # if str.find(\"\") != m²\n",
        "    # preprocessed_text = re.sub('[^a-zA-Z]', ' ', text)"
      ],
      "metadata": {
        "id": "Om286dZ2obk3"
      },
      "execution_count": 1328,
      "outputs": []
    },
    {
      "cell_type": "code",
      "source": [
        "HP.at[land_size_ha_list, \"land_size\"] = \"NaN\"\n",
        "    # 헥타르 단위의 land_size를 이상치로 판정하고 결측값 NaN 처리"
      ],
      "metadata": {
        "id": "6hj4RJxXTvWs"
      },
      "execution_count": 1329,
      "outputs": []
    },
    {
      "cell_type": "code",
      "source": [
        "HP.at[preferred_size_ha_list, \"preferred_size\"] = \"NaN\"\n",
        "    # 헥타르 단위의 preferred_size를 이상치로 판정하고 결측값 NaN 처리"
      ],
      "metadata": {
        "id": "5O7ye6LRWyBz"
      },
      "execution_count": 1330,
      "outputs": []
    },
    {
      "cell_type": "code",
      "source": [
        "HP = HP.astype({\n",
        "    \"land_size\":\"float\",\n",
        "    \"preferred_size\":\"float\"\n",
        "})"
      ],
      "metadata": {
        "id": "Egb8qmtGVwZi"
      },
      "execution_count": 1331,
      "outputs": []
    },
    {
      "cell_type": "code",
      "source": [
        "HP.info()"
      ],
      "metadata": {
        "id": "X_RCrHuwWkLB",
        "colab": {
          "base_uri": "https://localhost:8080/"
        },
        "outputId": "ee44c663-75a2-4f6d-cdac-f944b15683f3"
      },
      "execution_count": 1332,
      "outputs": [
        {
          "output_type": "stream",
          "name": "stdout",
          "text": [
            "<class 'pandas.core.frame.DataFrame'>\n",
            "Int64Index: 1000 entries, 1350988 to 1351987\n",
            "Data columns (total 22 columns):\n",
            " #   Column           Non-Null Count  Dtype  \n",
            "---  ------           --------------  -----  \n",
            " 0   breadcrumb       1000 non-null   object \n",
            " 1   category_name    1000 non-null   object \n",
            " 2   property_type    1000 non-null   object \n",
            " 3   building_size    280 non-null    float64\n",
            " 4   land_size        488 non-null    float64\n",
            " 5   preferred_size   565 non-null    float64\n",
            " 6   listing_agency   1000 non-null   object \n",
            " 7   price            1000 non-null   object \n",
            " 8   location_number  1000 non-null   int64  \n",
            " 9   location_type    1000 non-null   object \n",
            " 10  location_name    1000 non-null   object \n",
            " 11  address          988 non-null    object \n",
            " 12  address_1        988 non-null    object \n",
            " 13  city             1000 non-null   object \n",
            " 14  state            1000 non-null   object \n",
            " 15  zip_code         1000 non-null   int64  \n",
            " 16  phone            1000 non-null   object \n",
            " 17  product_depth    1000 non-null   object \n",
            " 18  bedroom_count    967 non-null    float64\n",
            " 19  bathroom_count   967 non-null    float64\n",
            " 20  parking_count    967 non-null    float64\n",
            " 21  RunDate          1000 non-null   object \n",
            "dtypes: float64(6), int64(2), object(14)\n",
            "memory usage: 212.0+ KB\n"
          ]
        }
      ]
    },
    {
      "cell_type": "code",
      "source": [
        "pd.set_option(\"display.max_columns\", None)\n",
        "pd.set_option(\"display.max_row\", 10)\n",
        "HP\n",
        "   # location_name 변수의 관측값(변량)과 price 변수의 관측값이 동일한 문제"
      ],
      "metadata": {
        "colab": {
          "base_uri": "https://localhost:8080/",
          "height": 1000
        },
        "id": "xvBATTIZvNPw",
        "outputId": "2546c3a9-3929-4563-af4f-4a5ddeb863ce"
      },
      "execution_count": 1333,
      "outputs": [
        {
          "output_type": "execute_result",
          "data": {
            "text/plain": [
              "                 breadcrumb  \\\n",
              "TID                           \n",
              "1350988  Buy>NT>DARWIN CITY   \n",
              "1350989  Buy>NT>DARWIN CITY   \n",
              "1350990  Buy>NT>DARWIN CITY   \n",
              "1350991  Buy>NT>DARWIN CITY   \n",
              "1350992  Buy>NT>DARWIN CITY   \n",
              "...                     ...   \n",
              "1351983       Buy>NT>DARWIN   \n",
              "1351984       Buy>NT>DARWIN   \n",
              "1351985       Buy>NT>DARWIN   \n",
              "1351986       Buy>NT>DARWIN   \n",
              "1351987       Buy>NT>DARWIN   \n",
              "\n",
              "                                             category_name property_type  \\\n",
              "TID                                                                        \n",
              "1350988  Real Estate & Property for sale in DARWIN CITY...         House   \n",
              "1350989  Real Estate & Property for sale in DARWIN CITY...     Apartment   \n",
              "1350990  Real Estate & Property for sale in DARWIN CITY...          Unit   \n",
              "1350991  Real Estate & Property for sale in DARWIN CITY...         House   \n",
              "1350992  Real Estate & Property for sale in DARWIN CITY...          Unit   \n",
              "...                                                    ...           ...   \n",
              "1351983  Real Estate & Property for sale in DARWIN, NT ...         House   \n",
              "1351984  Real Estate & Property for sale in DARWIN, NT ...         House   \n",
              "1351985  Real Estate & Property for sale in DARWIN, NT ...         House   \n",
              "1351986  Real Estate & Property for sale in DARWIN, NT ...         House   \n",
              "1351987  Real Estate & Property for sale in DARWIN, NT ...          Unit   \n",
              "\n",
              "         building_size  land_size  preferred_size  \\\n",
              "TID                                                 \n",
              "1350988            NaN        NaN             NaN   \n",
              "1350989          171.0        NaN           171.0   \n",
              "1350990            NaN        NaN             NaN   \n",
              "1350991            NaN        NaN             NaN   \n",
              "1350992          201.0        NaN           201.0   \n",
              "...                ...        ...             ...   \n",
              "1351983            NaN        NaN             NaN   \n",
              "1351984          203.0      600.0           600.0   \n",
              "1351985          209.6      800.0           800.0   \n",
              "1351986          180.0      450.0           450.0   \n",
              "1351987          120.0        NaN           120.0   \n",
              "\n",
              "                                          listing_agency  \\\n",
              "TID                                                        \n",
              "1350988                      Professionals - DARWIN CITY   \n",
              "1350989  Nick Mousellis Real Estate - Eview Group Member   \n",
              "1350990                Habitat Real Estate - THE GARDENS   \n",
              "1350991                           Ray White - NIGHTCLIFF   \n",
              "1350992              Carol Need Real Estate - Fannie Bay   \n",
              "...                                                  ...   \n",
              "1351983                         United Realty NT - Parap   \n",
              "1351984           Kassiou Constructions - HOWARD SPRINGS   \n",
              "1351985           Kassiou Constructions - HOWARD SPRINGS   \n",
              "1351986           Kassiou Constructions - HOWARD SPRINGS   \n",
              "1351987                            Home Zone NT - DARWIN   \n",
              "\n",
              "                        price  location_number location_type  \\\n",
              "TID                                                            \n",
              "1350988              $435,000        139468611           Buy   \n",
              "1350989  Offers Over $320,000        139463755           Buy   \n",
              "1350990              $310,000        139462495           Buy   \n",
              "1350991              $259,000        139451679           Buy   \n",
              "1350992              $439,000        139433803           Buy   \n",
              "...                       ...              ...           ...   \n",
              "1351983           2 Residence        138346247           Buy   \n",
              "1351984              $601,000        138333062           Buy   \n",
              "1351985              $655,000        138333058           Buy   \n",
              "1351986              $675,000        138333050           Buy   \n",
              "1351987              $399,000        138330946           Buy   \n",
              "\n",
              "                location_name                                         address  \\\n",
              "TID                                                                             \n",
              "1350988              $435,000           44 Woods Street, Darwin City, NT 0800   \n",
              "1350989  Offers Over $320,000      14/14 Dashwood Place, Darwin City, NT 0800   \n",
              "1350990              $310,000       13/86  Woods Street, Darwin City, NT 0800   \n",
              "1350991              $259,000   1309/43B Knuckey Street, Darwin City, NT 0800   \n",
              "1350992              $439,000     3/10 McLachlan Street, Darwin City, NT 0800   \n",
              "...                       ...                                             ...   \n",
              "1351983           2 Residence                 70 Hinton Rd, Virginia, NT 0834   \n",
              "1351984              $601,000        Lot 6076 Gregg Road, Humpty Doo, NT 0836   \n",
              "1351985              $655,000  Lot 6031 Pankhurst Street, Humpty Doo, NT 0836   \n",
              "1351986              $675,000   Lot 12802 Aldenham Street, Lee Point, NT 0810   \n",
              "1351987              $399,000          8/35 Duke Street, Stuart Park, NT 0820   \n",
              "\n",
              "                         address_1         city state  zip_code         phone  \\\n",
              "TID                                                                             \n",
              "1350988            44 Woods Street  Darwin City    NT       800  08 8941 8289   \n",
              "1350989       14/14 Dashwood Place  Darwin City    NT       800    0411724000   \n",
              "1350990        13/86  Woods Street  Darwin City    NT       800  08 8981 0080   \n",
              "1350991    1309/43B Knuckey Street  Darwin City    NT       800  08 8982 2403   \n",
              "1350992      3/10 McLachlan Street  Darwin City    NT       800    0418885966   \n",
              "...                            ...          ...   ...       ...           ...   \n",
              "1351983               70 Hinton Rd     Virginia    NT       834  08 8981 2666   \n",
              "1351984        Lot 6076 Gregg Road   Humpty Doo    NT       836   08 89834326   \n",
              "1351985  Lot 6031 Pankhurst Street   Humpty Doo    NT       836   08 89834326   \n",
              "1351986  Lot 12802 Aldenham Street    Lee Point    NT       810   08 89834326   \n",
              "1351987           8/35 Duke Street  Stuart Park    NT       820  0418 895 345   \n",
              "\n",
              "        product_depth  bedroom_count  bathroom_count  parking_count  \\\n",
              "TID                                                                   \n",
              "1350988      premiere            2.0             1.0            1.0   \n",
              "1350989      premiere            3.0             2.0            2.0   \n",
              "1350990      premiere            2.0             1.0            1.0   \n",
              "1350991      premiere            1.0             1.0            0.0   \n",
              "1350992      premiere            3.0             2.0            2.0   \n",
              "...               ...            ...             ...            ...   \n",
              "1351983       feature            4.0             3.0            6.0   \n",
              "1351984      standard            4.0             2.0            2.0   \n",
              "1351985      standard            4.0             2.0            2.0   \n",
              "1351986      standard            4.0             2.0            3.0   \n",
              "1351987       feature            2.0             2.0            2.0   \n",
              "\n",
              "                     RunDate  \n",
              "TID                           \n",
              "1350988  2022-05-27 15:54:05  \n",
              "1350989  2022-05-27 15:54:05  \n",
              "1350990  2022-05-27 15:54:05  \n",
              "1350991  2022-05-27 15:54:05  \n",
              "1350992  2022-05-27 15:54:05  \n",
              "...                      ...  \n",
              "1351983  2022-05-27 15:54:05  \n",
              "1351984  2022-05-27 15:54:05  \n",
              "1351985  2022-05-27 15:54:05  \n",
              "1351986  2022-05-27 15:54:05  \n",
              "1351987  2022-05-27 15:54:05  \n",
              "\n",
              "[1000 rows x 22 columns]"
            ],
            "text/html": [
              "\n",
              "  <div id=\"df-f970253a-4d4a-44f7-926b-40b1d37c86cc\">\n",
              "    <div class=\"colab-df-container\">\n",
              "      <div>\n",
              "<style scoped>\n",
              "    .dataframe tbody tr th:only-of-type {\n",
              "        vertical-align: middle;\n",
              "    }\n",
              "\n",
              "    .dataframe tbody tr th {\n",
              "        vertical-align: top;\n",
              "    }\n",
              "\n",
              "    .dataframe thead th {\n",
              "        text-align: right;\n",
              "    }\n",
              "</style>\n",
              "<table border=\"1\" class=\"dataframe\">\n",
              "  <thead>\n",
              "    <tr style=\"text-align: right;\">\n",
              "      <th></th>\n",
              "      <th>breadcrumb</th>\n",
              "      <th>category_name</th>\n",
              "      <th>property_type</th>\n",
              "      <th>building_size</th>\n",
              "      <th>land_size</th>\n",
              "      <th>preferred_size</th>\n",
              "      <th>listing_agency</th>\n",
              "      <th>price</th>\n",
              "      <th>location_number</th>\n",
              "      <th>location_type</th>\n",
              "      <th>location_name</th>\n",
              "      <th>address</th>\n",
              "      <th>address_1</th>\n",
              "      <th>city</th>\n",
              "      <th>state</th>\n",
              "      <th>zip_code</th>\n",
              "      <th>phone</th>\n",
              "      <th>product_depth</th>\n",
              "      <th>bedroom_count</th>\n",
              "      <th>bathroom_count</th>\n",
              "      <th>parking_count</th>\n",
              "      <th>RunDate</th>\n",
              "    </tr>\n",
              "    <tr>\n",
              "      <th>TID</th>\n",
              "      <th></th>\n",
              "      <th></th>\n",
              "      <th></th>\n",
              "      <th></th>\n",
              "      <th></th>\n",
              "      <th></th>\n",
              "      <th></th>\n",
              "      <th></th>\n",
              "      <th></th>\n",
              "      <th></th>\n",
              "      <th></th>\n",
              "      <th></th>\n",
              "      <th></th>\n",
              "      <th></th>\n",
              "      <th></th>\n",
              "      <th></th>\n",
              "      <th></th>\n",
              "      <th></th>\n",
              "      <th></th>\n",
              "      <th></th>\n",
              "      <th></th>\n",
              "      <th></th>\n",
              "    </tr>\n",
              "  </thead>\n",
              "  <tbody>\n",
              "    <tr>\n",
              "      <th>1350988</th>\n",
              "      <td>Buy&gt;NT&gt;DARWIN CITY</td>\n",
              "      <td>Real Estate &amp; Property for sale in DARWIN CITY...</td>\n",
              "      <td>House</td>\n",
              "      <td>NaN</td>\n",
              "      <td>NaN</td>\n",
              "      <td>NaN</td>\n",
              "      <td>Professionals - DARWIN CITY</td>\n",
              "      <td>$435,000</td>\n",
              "      <td>139468611</td>\n",
              "      <td>Buy</td>\n",
              "      <td>$435,000</td>\n",
              "      <td>44 Woods Street, Darwin City, NT 0800</td>\n",
              "      <td>44 Woods Street</td>\n",
              "      <td>Darwin City</td>\n",
              "      <td>NT</td>\n",
              "      <td>800</td>\n",
              "      <td>08 8941 8289</td>\n",
              "      <td>premiere</td>\n",
              "      <td>2.0</td>\n",
              "      <td>1.0</td>\n",
              "      <td>1.0</td>\n",
              "      <td>2022-05-27 15:54:05</td>\n",
              "    </tr>\n",
              "    <tr>\n",
              "      <th>1350989</th>\n",
              "      <td>Buy&gt;NT&gt;DARWIN CITY</td>\n",
              "      <td>Real Estate &amp; Property for sale in DARWIN CITY...</td>\n",
              "      <td>Apartment</td>\n",
              "      <td>171.0</td>\n",
              "      <td>NaN</td>\n",
              "      <td>171.0</td>\n",
              "      <td>Nick Mousellis Real Estate - Eview Group Member</td>\n",
              "      <td>Offers Over $320,000</td>\n",
              "      <td>139463755</td>\n",
              "      <td>Buy</td>\n",
              "      <td>Offers Over $320,000</td>\n",
              "      <td>14/14 Dashwood Place, Darwin City, NT 0800</td>\n",
              "      <td>14/14 Dashwood Place</td>\n",
              "      <td>Darwin City</td>\n",
              "      <td>NT</td>\n",
              "      <td>800</td>\n",
              "      <td>0411724000</td>\n",
              "      <td>premiere</td>\n",
              "      <td>3.0</td>\n",
              "      <td>2.0</td>\n",
              "      <td>2.0</td>\n",
              "      <td>2022-05-27 15:54:05</td>\n",
              "    </tr>\n",
              "    <tr>\n",
              "      <th>1350990</th>\n",
              "      <td>Buy&gt;NT&gt;DARWIN CITY</td>\n",
              "      <td>Real Estate &amp; Property for sale in DARWIN CITY...</td>\n",
              "      <td>Unit</td>\n",
              "      <td>NaN</td>\n",
              "      <td>NaN</td>\n",
              "      <td>NaN</td>\n",
              "      <td>Habitat Real Estate - THE GARDENS</td>\n",
              "      <td>$310,000</td>\n",
              "      <td>139462495</td>\n",
              "      <td>Buy</td>\n",
              "      <td>$310,000</td>\n",
              "      <td>13/86  Woods Street, Darwin City, NT 0800</td>\n",
              "      <td>13/86  Woods Street</td>\n",
              "      <td>Darwin City</td>\n",
              "      <td>NT</td>\n",
              "      <td>800</td>\n",
              "      <td>08 8981 0080</td>\n",
              "      <td>premiere</td>\n",
              "      <td>2.0</td>\n",
              "      <td>1.0</td>\n",
              "      <td>1.0</td>\n",
              "      <td>2022-05-27 15:54:05</td>\n",
              "    </tr>\n",
              "    <tr>\n",
              "      <th>1350991</th>\n",
              "      <td>Buy&gt;NT&gt;DARWIN CITY</td>\n",
              "      <td>Real Estate &amp; Property for sale in DARWIN CITY...</td>\n",
              "      <td>House</td>\n",
              "      <td>NaN</td>\n",
              "      <td>NaN</td>\n",
              "      <td>NaN</td>\n",
              "      <td>Ray White - NIGHTCLIFF</td>\n",
              "      <td>$259,000</td>\n",
              "      <td>139451679</td>\n",
              "      <td>Buy</td>\n",
              "      <td>$259,000</td>\n",
              "      <td>1309/43B Knuckey Street, Darwin City, NT 0800</td>\n",
              "      <td>1309/43B Knuckey Street</td>\n",
              "      <td>Darwin City</td>\n",
              "      <td>NT</td>\n",
              "      <td>800</td>\n",
              "      <td>08 8982 2403</td>\n",
              "      <td>premiere</td>\n",
              "      <td>1.0</td>\n",
              "      <td>1.0</td>\n",
              "      <td>0.0</td>\n",
              "      <td>2022-05-27 15:54:05</td>\n",
              "    </tr>\n",
              "    <tr>\n",
              "      <th>1350992</th>\n",
              "      <td>Buy&gt;NT&gt;DARWIN CITY</td>\n",
              "      <td>Real Estate &amp; Property for sale in DARWIN CITY...</td>\n",
              "      <td>Unit</td>\n",
              "      <td>201.0</td>\n",
              "      <td>NaN</td>\n",
              "      <td>201.0</td>\n",
              "      <td>Carol Need Real Estate - Fannie Bay</td>\n",
              "      <td>$439,000</td>\n",
              "      <td>139433803</td>\n",
              "      <td>Buy</td>\n",
              "      <td>$439,000</td>\n",
              "      <td>3/10 McLachlan Street, Darwin City, NT 0800</td>\n",
              "      <td>3/10 McLachlan Street</td>\n",
              "      <td>Darwin City</td>\n",
              "      <td>NT</td>\n",
              "      <td>800</td>\n",
              "      <td>0418885966</td>\n",
              "      <td>premiere</td>\n",
              "      <td>3.0</td>\n",
              "      <td>2.0</td>\n",
              "      <td>2.0</td>\n",
              "      <td>2022-05-27 15:54:05</td>\n",
              "    </tr>\n",
              "    <tr>\n",
              "      <th>...</th>\n",
              "      <td>...</td>\n",
              "      <td>...</td>\n",
              "      <td>...</td>\n",
              "      <td>...</td>\n",
              "      <td>...</td>\n",
              "      <td>...</td>\n",
              "      <td>...</td>\n",
              "      <td>...</td>\n",
              "      <td>...</td>\n",
              "      <td>...</td>\n",
              "      <td>...</td>\n",
              "      <td>...</td>\n",
              "      <td>...</td>\n",
              "      <td>...</td>\n",
              "      <td>...</td>\n",
              "      <td>...</td>\n",
              "      <td>...</td>\n",
              "      <td>...</td>\n",
              "      <td>...</td>\n",
              "      <td>...</td>\n",
              "      <td>...</td>\n",
              "      <td>...</td>\n",
              "    </tr>\n",
              "    <tr>\n",
              "      <th>1351983</th>\n",
              "      <td>Buy&gt;NT&gt;DARWIN</td>\n",
              "      <td>Real Estate &amp; Property for sale in DARWIN, NT ...</td>\n",
              "      <td>House</td>\n",
              "      <td>NaN</td>\n",
              "      <td>NaN</td>\n",
              "      <td>NaN</td>\n",
              "      <td>United Realty NT - Parap</td>\n",
              "      <td>2 Residence</td>\n",
              "      <td>138346247</td>\n",
              "      <td>Buy</td>\n",
              "      <td>2 Residence</td>\n",
              "      <td>70 Hinton Rd, Virginia, NT 0834</td>\n",
              "      <td>70 Hinton Rd</td>\n",
              "      <td>Virginia</td>\n",
              "      <td>NT</td>\n",
              "      <td>834</td>\n",
              "      <td>08 8981 2666</td>\n",
              "      <td>feature</td>\n",
              "      <td>4.0</td>\n",
              "      <td>3.0</td>\n",
              "      <td>6.0</td>\n",
              "      <td>2022-05-27 15:54:05</td>\n",
              "    </tr>\n",
              "    <tr>\n",
              "      <th>1351984</th>\n",
              "      <td>Buy&gt;NT&gt;DARWIN</td>\n",
              "      <td>Real Estate &amp; Property for sale in DARWIN, NT ...</td>\n",
              "      <td>House</td>\n",
              "      <td>203.0</td>\n",
              "      <td>600.0</td>\n",
              "      <td>600.0</td>\n",
              "      <td>Kassiou Constructions - HOWARD SPRINGS</td>\n",
              "      <td>$601,000</td>\n",
              "      <td>138333062</td>\n",
              "      <td>Buy</td>\n",
              "      <td>$601,000</td>\n",
              "      <td>Lot 6076 Gregg Road, Humpty Doo, NT 0836</td>\n",
              "      <td>Lot 6076 Gregg Road</td>\n",
              "      <td>Humpty Doo</td>\n",
              "      <td>NT</td>\n",
              "      <td>836</td>\n",
              "      <td>08 89834326</td>\n",
              "      <td>standard</td>\n",
              "      <td>4.0</td>\n",
              "      <td>2.0</td>\n",
              "      <td>2.0</td>\n",
              "      <td>2022-05-27 15:54:05</td>\n",
              "    </tr>\n",
              "    <tr>\n",
              "      <th>1351985</th>\n",
              "      <td>Buy&gt;NT&gt;DARWIN</td>\n",
              "      <td>Real Estate &amp; Property for sale in DARWIN, NT ...</td>\n",
              "      <td>House</td>\n",
              "      <td>209.6</td>\n",
              "      <td>800.0</td>\n",
              "      <td>800.0</td>\n",
              "      <td>Kassiou Constructions - HOWARD SPRINGS</td>\n",
              "      <td>$655,000</td>\n",
              "      <td>138333058</td>\n",
              "      <td>Buy</td>\n",
              "      <td>$655,000</td>\n",
              "      <td>Lot 6031 Pankhurst Street, Humpty Doo, NT 0836</td>\n",
              "      <td>Lot 6031 Pankhurst Street</td>\n",
              "      <td>Humpty Doo</td>\n",
              "      <td>NT</td>\n",
              "      <td>836</td>\n",
              "      <td>08 89834326</td>\n",
              "      <td>standard</td>\n",
              "      <td>4.0</td>\n",
              "      <td>2.0</td>\n",
              "      <td>2.0</td>\n",
              "      <td>2022-05-27 15:54:05</td>\n",
              "    </tr>\n",
              "    <tr>\n",
              "      <th>1351986</th>\n",
              "      <td>Buy&gt;NT&gt;DARWIN</td>\n",
              "      <td>Real Estate &amp; Property for sale in DARWIN, NT ...</td>\n",
              "      <td>House</td>\n",
              "      <td>180.0</td>\n",
              "      <td>450.0</td>\n",
              "      <td>450.0</td>\n",
              "      <td>Kassiou Constructions - HOWARD SPRINGS</td>\n",
              "      <td>$675,000</td>\n",
              "      <td>138333050</td>\n",
              "      <td>Buy</td>\n",
              "      <td>$675,000</td>\n",
              "      <td>Lot 12802 Aldenham Street, Lee Point, NT 0810</td>\n",
              "      <td>Lot 12802 Aldenham Street</td>\n",
              "      <td>Lee Point</td>\n",
              "      <td>NT</td>\n",
              "      <td>810</td>\n",
              "      <td>08 89834326</td>\n",
              "      <td>standard</td>\n",
              "      <td>4.0</td>\n",
              "      <td>2.0</td>\n",
              "      <td>3.0</td>\n",
              "      <td>2022-05-27 15:54:05</td>\n",
              "    </tr>\n",
              "    <tr>\n",
              "      <th>1351987</th>\n",
              "      <td>Buy&gt;NT&gt;DARWIN</td>\n",
              "      <td>Real Estate &amp; Property for sale in DARWIN, NT ...</td>\n",
              "      <td>Unit</td>\n",
              "      <td>120.0</td>\n",
              "      <td>NaN</td>\n",
              "      <td>120.0</td>\n",
              "      <td>Home Zone NT - DARWIN</td>\n",
              "      <td>$399,000</td>\n",
              "      <td>138330946</td>\n",
              "      <td>Buy</td>\n",
              "      <td>$399,000</td>\n",
              "      <td>8/35 Duke Street, Stuart Park, NT 0820</td>\n",
              "      <td>8/35 Duke Street</td>\n",
              "      <td>Stuart Park</td>\n",
              "      <td>NT</td>\n",
              "      <td>820</td>\n",
              "      <td>0418 895 345</td>\n",
              "      <td>feature</td>\n",
              "      <td>2.0</td>\n",
              "      <td>2.0</td>\n",
              "      <td>2.0</td>\n",
              "      <td>2022-05-27 15:54:05</td>\n",
              "    </tr>\n",
              "  </tbody>\n",
              "</table>\n",
              "<p>1000 rows × 22 columns</p>\n",
              "</div>\n",
              "      <button class=\"colab-df-convert\" onclick=\"convertToInteractive('df-f970253a-4d4a-44f7-926b-40b1d37c86cc')\"\n",
              "              title=\"Convert this dataframe to an interactive table.\"\n",
              "              style=\"display:none;\">\n",
              "        \n",
              "  <svg xmlns=\"http://www.w3.org/2000/svg\" height=\"24px\"viewBox=\"0 0 24 24\"\n",
              "       width=\"24px\">\n",
              "    <path d=\"M0 0h24v24H0V0z\" fill=\"none\"/>\n",
              "    <path d=\"M18.56 5.44l.94 2.06.94-2.06 2.06-.94-2.06-.94-.94-2.06-.94 2.06-2.06.94zm-11 1L8.5 8.5l.94-2.06 2.06-.94-2.06-.94L8.5 2.5l-.94 2.06-2.06.94zm10 10l.94 2.06.94-2.06 2.06-.94-2.06-.94-.94-2.06-.94 2.06-2.06.94z\"/><path d=\"M17.41 7.96l-1.37-1.37c-.4-.4-.92-.59-1.43-.59-.52 0-1.04.2-1.43.59L10.3 9.45l-7.72 7.72c-.78.78-.78 2.05 0 2.83L4 21.41c.39.39.9.59 1.41.59.51 0 1.02-.2 1.41-.59l7.78-7.78 2.81-2.81c.8-.78.8-2.07 0-2.86zM5.41 20L4 18.59l7.72-7.72 1.47 1.35L5.41 20z\"/>\n",
              "  </svg>\n",
              "      </button>\n",
              "      \n",
              "  <style>\n",
              "    .colab-df-container {\n",
              "      display:flex;\n",
              "      flex-wrap:wrap;\n",
              "      gap: 12px;\n",
              "    }\n",
              "\n",
              "    .colab-df-convert {\n",
              "      background-color: #E8F0FE;\n",
              "      border: none;\n",
              "      border-radius: 50%;\n",
              "      cursor: pointer;\n",
              "      display: none;\n",
              "      fill: #1967D2;\n",
              "      height: 32px;\n",
              "      padding: 0 0 0 0;\n",
              "      width: 32px;\n",
              "    }\n",
              "\n",
              "    .colab-df-convert:hover {\n",
              "      background-color: #E2EBFA;\n",
              "      box-shadow: 0px 1px 2px rgba(60, 64, 67, 0.3), 0px 1px 3px 1px rgba(60, 64, 67, 0.15);\n",
              "      fill: #174EA6;\n",
              "    }\n",
              "\n",
              "    [theme=dark] .colab-df-convert {\n",
              "      background-color: #3B4455;\n",
              "      fill: #D2E3FC;\n",
              "    }\n",
              "\n",
              "    [theme=dark] .colab-df-convert:hover {\n",
              "      background-color: #434B5C;\n",
              "      box-shadow: 0px 1px 3px 1px rgba(0, 0, 0, 0.15);\n",
              "      filter: drop-shadow(0px 1px 2px rgba(0, 0, 0, 0.3));\n",
              "      fill: #FFFFFF;\n",
              "    }\n",
              "  </style>\n",
              "\n",
              "      <script>\n",
              "        const buttonEl =\n",
              "          document.querySelector('#df-f970253a-4d4a-44f7-926b-40b1d37c86cc button.colab-df-convert');\n",
              "        buttonEl.style.display =\n",
              "          google.colab.kernel.accessAllowed ? 'block' : 'none';\n",
              "\n",
              "        async function convertToInteractive(key) {\n",
              "          const element = document.querySelector('#df-f970253a-4d4a-44f7-926b-40b1d37c86cc');\n",
              "          const dataTable =\n",
              "            await google.colab.kernel.invokeFunction('convertToInteractive',\n",
              "                                                     [key], {});\n",
              "          if (!dataTable) return;\n",
              "\n",
              "          const docLinkHtml = 'Like what you see? Visit the ' +\n",
              "            '<a target=\"_blank\" href=https://colab.research.google.com/notebooks/data_table.ipynb>data table notebook</a>'\n",
              "            + ' to learn more about interactive tables.';\n",
              "          element.innerHTML = '';\n",
              "          dataTable['output_type'] = 'display_data';\n",
              "          await google.colab.output.renderOutput(dataTable, element);\n",
              "          const docLink = document.createElement('div');\n",
              "          docLink.innerHTML = docLinkHtml;\n",
              "          element.appendChild(docLink);\n",
              "        }\n",
              "      </script>\n",
              "    </div>\n",
              "  </div>\n",
              "  "
            ]
          },
          "metadata": {},
          "execution_count": 1333
        }
      ]
    },
    {
      "cell_type": "code",
      "source": [
        "HP.drop(\"location_name\", axis = 1, inplace = True)\n",
        "   # location_name이 잘못 저장되었다고 판단 하에 location_name 변수 열 제거"
      ],
      "metadata": {
        "id": "o3WSWyYjwMKY"
      },
      "execution_count": 1334,
      "outputs": []
    },
    {
      "cell_type": "code",
      "source": [
        "HP[HP.price.str.contains(r\"(2 Residence)\") == True].index.values"
      ],
      "metadata": {
        "colab": {
          "base_uri": "https://localhost:8080/"
        },
        "id": "5mtg5QGUwYG6",
        "outputId": "3f15ba7f-717f-43c8-e4bd-1572bef0874a"
      },
      "execution_count": 1335,
      "outputs": [
        {
          "output_type": "stream",
          "name": "stderr",
          "text": [
            "<ipython-input-1335-6821adb4a86f>:1: UserWarning: This pattern has match groups. To actually get the groups, use str.extract.\n",
            "  HP[HP.price.str.contains(r\"(2 Residence)\") == True].index.values\n"
          ]
        },
        {
          "output_type": "execute_result",
          "data": {
            "text/plain": [
              "array([1351983])"
            ]
          },
          "metadata": {},
          "execution_count": 1335
        }
      ]
    },
    {
      "cell_type": "code",
      "source": [],
      "metadata": {
        "id": "n42L9X6X5N9H"
      },
      "execution_count": 1335,
      "outputs": []
    },
    {
      "cell_type": "code",
      "source": [
        "# Trial & Error\n",
        "\n",
        "# HP[\"price\"] = HP[\"price\"].str.replace(\"369 000\", \"369000\")\n",
        "'''\n",
        "HP[\"price\"] = HP[\"price\"].str.strip()\n",
        "HP[\"price\"] = HP[\"price\"].str.lstrip()\n",
        "    # 좌우 공백 제거\n",
        "HP[\"price\"] = HP[\"price\"].str.replace(\"$\", \"\")\n",
        "HP[\"price\"] = HP[\"price\"].str.replace(\",\", \"\")\n",
        "HP[\"price\"] = HP[\"price\"].str.replace(\"+\", \"\")\n",
        "    # price 변수의 문자열 $ 및 , 화폐 단위 제거\n",
        "HP[\"price\"] = HP[\"price\"].str.replace(\"Offersover\", \"\")\n",
        "HP[\"price\"] = HP[\"price\"].str.replace(\"Offers over \", \"\")\n",
        "HP[\"price\"] = HP[\"price\"].str.replace(\"Offers Over \", \"\")\n",
        "HP[\"price\"] = HP[\"price\"].str.replace(\"OversOver\", \"\")\n",
        "HP[\"price\"] = HP[\"price\"].str.replace(\"Overs Over\", \"\")\n",
        "HP[\"price\"] = HP[\"price\"].str.replace(\"Considered\", \"\")\n",
        "HP[\"price\"] = HP[\"price\"].str.replace(\"PRICEGUIDE\", \"\")\n",
        "HP[\"price\"] = HP[\"price\"].str.replace(\"PRICE GUIDE\", \"\")\n",
        "HP[\"price\"] = HP[\"price\"].str.replace(\"FASTRAK\", \"NaN\")\n",
        "HP[\"price\"] = HP[\"price\"].str.replace(\"UNDERCONTRACT\", \"NaN\")\n",
        "HP[\"price\"] = HP[\"price\"].str.replace(\"UNDER CONTRACT\", \"NaN\")\n",
        "HP[\"price\"] = HP[\"price\"].str.replace(\"2Residence\", \"NaN\")\n",
        "HP[\"price\"] = HP[\"price\"].str.replace(\"OpennNegotiation\", \"NaN\")\n",
        "HP[\"price\"] = HP[\"price\"].str.replace(\"Openn Negotiation\", \"NaN\")\n",
        "    # Offers over 문자열 및 2 Residence 집 가격과 무관한 바 제거\n",
        "'''\n",
        "\n",
        "# HP[HP.price.isnull()]\n",
        "    # [ValueError] invalid literal for int() with base 10: 'NaN' \n",
        "\n",
        "# HP[HP.price.str.contains(r\"(NaN)\") == True].index.values\n",
        "# price_NaN = HP[HP.price.str.contains(r\"(NaN)\") == True].index.values\n",
        "# len(price_NaN)\n",
        "'''\n",
        "price_NaN_list = []\n",
        "\n",
        "for i in range(0, 15, 1):\n",
        "    price_NaN_list.append(price_NaN[i])\n",
        "    if i == 43: \n",
        "      print(type(price_NaN_list))\n",
        "      print(price_NaN_list)\n",
        "    else: pass\n",
        "'''\n",
        "# HP.at[price_NaN_list, \"price\"] = \"NaN\"\n",
        "\n",
        "# HP[\"price\"] = HP[\"price\"].str.replace(pat = r'.',repl = r' ', regex=True)\n",
        "# HP[\"price\"] = re.sub(r\"[^0-9]\", \"\", HP[\"price\"])"
      ],
      "metadata": {
        "id": "TFgmoC4oV0oj",
        "colab": {
          "base_uri": "https://localhost:8080/",
          "height": 53
        },
        "outputId": "3c382b9b-6aa9-4c4c-ce93-18f8e9ce76d8"
      },
      "execution_count": 1336,
      "outputs": [
        {
          "output_type": "execute_result",
          "data": {
            "text/plain": [
              "'\\nprice_NaN_list = []\\n\\nfor i in range(0, 15, 1):\\n    price_NaN_list.append(price_NaN[i])\\n    if i == 43: \\n      print(type(price_NaN_list))\\n      print(price_NaN_list)\\n    else: pass\\n'"
            ],
            "application/vnd.google.colaboratory.intrinsic+json": {
              "type": "string"
            }
          },
          "metadata": {},
          "execution_count": 1336
        }
      ]
    },
    {
      "cell_type": "code",
      "source": [
        "HP.price = HP.price.str.extract('(\\d+)')"
      ],
      "metadata": {
        "id": "YGd2gQe27Nmn"
      },
      "execution_count": 1337,
      "outputs": []
    },
    {
      "cell_type": "code",
      "source": [
        "HP[\"price\"] = HP[\"price\"].astype(\"float\")"
      ],
      "metadata": {
        "id": "ky31zP1W4922"
      },
      "execution_count": 1338,
      "outputs": []
    },
    {
      "cell_type": "code",
      "source": [
        "HP.product_depth = HP.product_depth.str.extract('(\\d+)')"
      ],
      "metadata": {
        "id": "igzqWEIi8QUC"
      },
      "execution_count": 1339,
      "outputs": []
    },
    {
      "cell_type": "code",
      "source": [
        "HP[\"product_depth\"] = HP[\"product_depth\"].astype(\"float\")\n",
        "    # product_depth는 문자 제거 후 숫자만 남기면 모두 NaN으로 결측인바 변수 열 제거 "
      ],
      "metadata": {
        "id": "On-C4vPJ8U9N"
      },
      "execution_count": 1340,
      "outputs": []
    },
    {
      "cell_type": "code",
      "source": [
        "HP.drop([\"product_depth\"], axis = 1, inplace = True)"
      ],
      "metadata": {
        "id": "-KOJ4A2V9QSp"
      },
      "execution_count": 1341,
      "outputs": []
    },
    {
      "cell_type": "markdown",
      "source": [
        "### 자료형 변환(문자형에서 범주형)"
      ],
      "metadata": {
        "id": "W_1MM-asqqYT"
      }
    },
    {
      "cell_type": "code",
      "source": [
        "HP[\"RunDate\"] = pd.to_datetime(HP[\"RunDate\"])"
      ],
      "metadata": {
        "id": "1-rMADq98DDC"
      },
      "execution_count": 1342,
      "outputs": []
    },
    {
      "cell_type": "code",
      "source": [
        "HP = HP.sort_values(by = \"RunDate\") "
      ],
      "metadata": {
        "id": "StxvhV208ppl"
      },
      "execution_count": 1343,
      "outputs": []
    },
    {
      "cell_type": "code",
      "source": [
        "HP[\"breadcrumb\"].unique()\n",
        "    # category\n",
        "    # 웹사이트 내에서 사용자의 위치를 보여주는 텍스트 흔적"
      ],
      "metadata": {
        "colab": {
          "base_uri": "https://localhost:8080/"
        },
        "id": "0hR22GqC_DE2",
        "outputId": "70519983-ac03-4cfe-91d2-ff01f2dafc5a"
      },
      "execution_count": 1344,
      "outputs": [
        {
          "output_type": "execute_result",
          "data": {
            "text/plain": [
              "array(['Buy>NT>DARWIN CITY', 'Buy>NT>DARWIN'], dtype=object)"
            ]
          },
          "metadata": {},
          "execution_count": 1344
        }
      ]
    },
    {
      "cell_type": "code",
      "source": [
        "HP[\"category_name\"].unique()\n",
        "    # category & TARGET variable"
      ],
      "metadata": {
        "colab": {
          "base_uri": "https://localhost:8080/"
        },
        "id": "6Dsbq-6D-E0v",
        "outputId": "5ea008a0-f195-42c4-afe5-bd3ca04fc8d7"
      },
      "execution_count": 1345,
      "outputs": [
        {
          "output_type": "execute_result",
          "data": {
            "text/plain": [
              "array(['Real Estate & Property for sale in DARWIN CITY, NT 0800',\n",
              "       'Real Estate & Property for sale in DARWIN, NT 0801'], dtype=object)"
            ]
          },
          "metadata": {},
          "execution_count": 1345
        }
      ]
    },
    {
      "cell_type": "code",
      "source": [
        "HP[\"property_type\"].unique()\n",
        "    # category"
      ],
      "metadata": {
        "colab": {
          "base_uri": "https://localhost:8080/"
        },
        "id": "kgxgz-Jn-EuL",
        "outputId": "8f5bfb76-ae6d-497b-e16c-23443355dc03"
      },
      "execution_count": 1346,
      "outputs": [
        {
          "output_type": "execute_result",
          "data": {
            "text/plain": [
              "array(['House', 'Duplex/Semi-detached', 'Unit', 'Villa', 'Apartment',\n",
              "       'Townhouse', 'Acreage', 'Residential Land', 'Warehouse',\n",
              "       'Block Of Units', 'Lifestyle', 'Studio', 'Other'], dtype=object)"
            ]
          },
          "metadata": {},
          "execution_count": 1346
        }
      ]
    },
    {
      "cell_type": "code",
      "source": [
        "HP[\"location_type\"].unique()\n",
        "   # 유형이 Buy 하나인바 변수 열 제거\n",
        "HP.drop(\"location_type\", axis = 1, inplace = True)"
      ],
      "metadata": {
        "id": "QcPp8flm_fbr"
      },
      "execution_count": 1347,
      "outputs": []
    },
    {
      "cell_type": "code",
      "source": [
        "# HP[\"listing_agency\"].unique()\n",
        "    # object"
      ],
      "metadata": {
        "id": "7fvdPKwO-z93"
      },
      "execution_count": 1348,
      "outputs": []
    },
    {
      "cell_type": "code",
      "source": [
        "HP[\"city\"].unique()\n",
        "    # category"
      ],
      "metadata": {
        "colab": {
          "base_uri": "https://localhost:8080/"
        },
        "id": "JsygT49tAC3s",
        "outputId": "b2baece1-60d0-407b-9a02-6e60ca326300"
      },
      "execution_count": 1349,
      "outputs": [
        {
          "output_type": "execute_result",
          "data": {
            "text/plain": [
              "array(['Darwin City', 'Bakewell', 'Moulden', 'Jingili', 'Larrakeyah',\n",
              "       'Stuart Park', 'Rosebery', 'Leanyer', 'Gray', 'Johnston',\n",
              "       'Wagaman', 'Howard Springs', 'Alawa', 'Nightcliff', 'Anula',\n",
              "       'Berry Springs', 'Cullen Bay', 'Coconut Grove', 'Bellamack',\n",
              "       'Driver', 'Fannie Bay', 'Parap', 'Woodroffe', 'Malak', 'Farrar',\n",
              "       'Gunn', 'Rapid Creek', 'Millner', 'Girraween', 'Muirhead',\n",
              "       'Ludmilla', 'Humpty Doo', 'Bayview', 'Berrimah', 'Wanguri',\n",
              "       'Durack', 'Tiwi', 'Zuccoli', 'Karama', 'Herbert', 'Moil', 'Lyons',\n",
              "       'Woolner', 'Brinkin', 'Wulagi', 'The Gardens', 'Knuckey Lagoon',\n",
              "       'Virginia', 'Nakara', 'Marlow Lagoon', 'Coolalinga', 'Bees Creek',\n",
              "       'Rosebery Heights', 'Marrara', 'The Narrows', 'Lee Point'],\n",
              "      dtype=object)"
            ]
          },
          "metadata": {},
          "execution_count": 1349
        }
      ]
    },
    {
      "cell_type": "code",
      "source": [
        "HP[\"state\"].unique()\n",
        "    # 유형이 Buy 하나인바 변수 열 제거\n",
        "HP.drop(\"state\", axis = 1, inplace = True)"
      ],
      "metadata": {
        "id": "wgkFtasEAGBn"
      },
      "execution_count": 1350,
      "outputs": []
    },
    {
      "cell_type": "code",
      "source": [
        "msno.bar(HP)"
      ],
      "metadata": {
        "colab": {
          "base_uri": "https://localhost:8080/",
          "height": 660
        },
        "id": "oZdhXHi88p_G",
        "outputId": "34c4c179-3ba3-4a86-ce36-2d3aaefc916f"
      },
      "execution_count": 1351,
      "outputs": [
        {
          "output_type": "execute_result",
          "data": {
            "text/plain": [
              "<matplotlib.axes._subplots.AxesSubplot at 0x7f07a4ec53a0>"
            ]
          },
          "metadata": {},
          "execution_count": 1351
        },
        {
          "output_type": "display_data",
          "data": {
            "text/plain": [
              "<Figure size 1800x720 with 3 Axes>"
            ],
            "image/png": "[encoded data removed]"
          },
          "metadata": {
            "needs_background": "light"
          }
        }
      ]
    },
    {
      "cell_type": "code",
      "source": [
        "HP = HP.astype({\n",
        "    \"breadcrumb\":\"category\",\n",
        "    \"category_name\":\"category\",\n",
        "    \"property_type\":\"category\",\n",
        "    \"city\":\"category\"\n",
        "})"
      ],
      "metadata": {
        "id": "xyH1RYNn9EbZ"
      },
      "execution_count": 1352,
      "outputs": []
    },
    {
      "cell_type": "code",
      "source": [
        "HP.info()"
      ],
      "metadata": {
        "id": "Gkhca4ALUScO",
        "colab": {
          "base_uri": "https://localhost:8080/"
        },
        "outputId": "4c2e7c4a-65fa-4dbb-8ab9-1d2155aa7cf6"
      },
      "execution_count": 1353,
      "outputs": [
        {
          "output_type": "stream",
          "name": "stdout",
          "text": [
            "<class 'pandas.core.frame.DataFrame'>\n",
            "Int64Index: 1000 entries, 1350988 to 1351987\n",
            "Data columns (total 18 columns):\n",
            " #   Column           Non-Null Count  Dtype         \n",
            "---  ------           --------------  -----         \n",
            " 0   breadcrumb       1000 non-null   category      \n",
            " 1   category_name    1000 non-null   category      \n",
            " 2   property_type    1000 non-null   category      \n",
            " 3   building_size    280 non-null    float64       \n",
            " 4   land_size        488 non-null    float64       \n",
            " 5   preferred_size   565 non-null    float64       \n",
            " 6   listing_agency   1000 non-null   object        \n",
            " 7   price            787 non-null    float64       \n",
            " 8   location_number  1000 non-null   int64         \n",
            " 9   address          988 non-null    object        \n",
            " 10  address_1        988 non-null    object        \n",
            " 11  city             1000 non-null   category      \n",
            " 12  zip_code         1000 non-null   int64         \n",
            " 13  phone            1000 non-null   object        \n",
            " 14  bedroom_count    967 non-null    float64       \n",
            " 15  bathroom_count   967 non-null    float64       \n",
            " 16  parking_count    967 non-null    float64       \n",
            " 17  RunDate          1000 non-null   datetime64[ns]\n",
            "dtypes: category(4), datetime64[ns](1), float64(7), int64(2), object(4)\n",
            "memory usage: 124.5+ KB\n"
          ]
        }
      ]
    },
    {
      "cell_type": "markdown",
      "source": [
        "### 연속형 변수 상관분석 후 KNN을 이용한 결측값 예측하여 보간/대체"
      ],
      "metadata": {
        "id": "j0_8rUJOF5K6"
      }
    },
    {
      "cell_type": "code",
      "source": [
        "corr = HP.corr()\n",
        "mask = np.zeros_like(HP.corr(), dtype = np.bool)\n",
        "mask[np.triu_indices_from(mask)] = True\n",
        "    # 상관분석 히트맵 삼각형 마스크(위 쪽 삼각형에 True, 아래 삼각형에 False)\n",
        "sns.heatmap(data = corr, annot = True, fmt = \".1f\", cmap = \"YlGnBu\", mask = mask)"
      ],
      "metadata": {
        "colab": {
          "base_uri": "https://localhost:8080/",
          "height": 431
        },
        "id": "ptgYQn-aAwzu",
        "outputId": "61f95e6e-61a7-450a-bf7f-97352448aa5a"
      },
      "execution_count": 1354,
      "outputs": [
        {
          "output_type": "stream",
          "name": "stderr",
          "text": [
            "<ipython-input-1354-b7e87e712c32>:2: DeprecationWarning: `np.bool` is a deprecated alias for the builtin `bool`. To silence this warning, use `bool` by itself. Doing this will not modify any behavior and is safe. If you specifically wanted the numpy scalar type, use `np.bool_` here.\n",
            "Deprecated in NumPy 1.20; for more details and guidance: https://numpy.org/devdocs/release/1.20.0-notes.html#deprecations\n",
            "  mask = np.zeros_like(HP.corr(), dtype = np.bool)\n"
          ]
        },
        {
          "output_type": "execute_result",
          "data": {
            "text/plain": [
              "<matplotlib.axes._subplots.AxesSubplot at 0x7f07a4dd89a0>"
            ]
          },
          "metadata": {},
          "execution_count": 1354
        },
        {
          "output_type": "display_data",
          "data": {
            "text/plain": [
              "<Figure size 432x288 with 2 Axes>"
            ],
            "image/png": "[encoded data removed]"
          },
          "metadata": {
            "needs_background": "light"
          }
        }
      ]
    },
    {
      "cell_type": "markdown",
      "source": [
        "\n",
        "\n",
        "```\n",
        "* 상관분석 결과 building_size와의 상관계수가 0.4 이상인 prefered를 이용하여 결측값 대체\n",
        "* 상관분석 결과 land_size, preferred_size와의 상관계수가 0.4 이상인 parking_count, bedroom_count를 이용하여 결측값 대체\n",
        "```\n",
        "\n"
      ],
      "metadata": {
        "id": "Cc2roL0TCp1F"
      }
    },
    {
      "cell_type": "code",
      "source": [
        "NA_impute = KNNImputer()\n",
        "    # NA값의 최근접 k개의 평균으로 결측값을 대체하는 k-nearest neighbor 보간법"
      ],
      "metadata": {
        "id": "CPpCXF4PDhlR"
      },
      "execution_count": 1355,
      "outputs": []
    },
    {
      "cell_type": "code",
      "source": [
        "numeric_col = HP.select_dtypes(include = [\"int64\", \"float64\"]).columns.values"
      ],
      "metadata": {
        "id": "uWcHYCfvES3P"
      },
      "execution_count": 1356,
      "outputs": []
    },
    {
      "cell_type": "code",
      "source": [
        "numeric_col_list = []\n",
        "for i in range(0, 9, 1):\n",
        "  numeric_col_list.append(numeric_col[i])"
      ],
      "metadata": {
        "id": "uSErXuzREdRn"
      },
      "execution_count": 1357,
      "outputs": []
    },
    {
      "cell_type": "code",
      "source": [
        "numeric_col_list.pop(5)"
      ],
      "metadata": {
        "colab": {
          "base_uri": "https://localhost:8080/",
          "height": 35
        },
        "id": "b4A2Z5RIE1YH",
        "outputId": "49a0477d-adba-4037-efea-8e6651ffea54"
      },
      "execution_count": 1358,
      "outputs": [
        {
          "output_type": "execute_result",
          "data": {
            "text/plain": [
              "'zip_code'"
            ],
            "application/vnd.google.colaboratory.intrinsic+json": {
              "type": "string"
            }
          },
          "metadata": {},
          "execution_count": 1358
        }
      ]
    },
    {
      "cell_type": "code",
      "source": [
        "print(numeric_col_list, end = \",\")"
      ],
      "metadata": {
        "colab": {
          "base_uri": "https://localhost:8080/"
        },
        "id": "vHshzBMvEvDZ",
        "outputId": "5641c72d-7597-41f2-cd49-4af47ca29280"
      },
      "execution_count": 1359,
      "outputs": [
        {
          "output_type": "stream",
          "name": "stdout",
          "text": [
            "['building_size', 'land_size', 'preferred_size', 'price', 'location_number', 'bedroom_count', 'bathroom_count', 'parking_count'],"
          ]
        }
      ]
    },
    {
      "cell_type": "code",
      "source": [
        "NA_impute.fit(HP.loc[:, numeric_col_list])\n",
        "\n",
        "for col_name in numeric_col_list:\n",
        "  HP[col_name] = NA_impute.transform(HP.loc[:, numeric_col_list])"
      ],
      "metadata": {
        "id": "WV4_df_LEJIn"
      },
      "execution_count": 1360,
      "outputs": []
    },
    {
      "cell_type": "code",
      "source": [
        "HP.isnull().sum()"
      ],
      "metadata": {
        "colab": {
          "base_uri": "https://localhost:8080/"
        },
        "id": "MCuwo0N3FTz7",
        "outputId": "492047d0-1b4f-41a9-a131-ce3e1c14e97e"
      },
      "execution_count": 1361,
      "outputs": [
        {
          "output_type": "execute_result",
          "data": {
            "text/plain": [
              "breadcrumb        0\n",
              "category_name     0\n",
              "property_type     0\n",
              "building_size     0\n",
              "land_size         0\n",
              "                 ..\n",
              "phone             0\n",
              "bedroom_count     0\n",
              "bathroom_count    0\n",
              "parking_count     0\n",
              "RunDate           0\n",
              "Length: 18, dtype: int64"
            ]
          },
          "metadata": {},
          "execution_count": 1361
        }
      ]
    },
    {
      "cell_type": "code",
      "source": [
        "HP = HP.dropna()\n",
        "    # address와 address_1 변수의 결측값 12개는 보간하기 어려운바 12개 행 제거"
      ],
      "metadata": {
        "id": "GB0HXwewFcHN"
      },
      "execution_count": 1362,
      "outputs": []
    },
    {
      "cell_type": "markdown",
      "source": [
        "### Target 변수인 category_name을 예측하기 위한 이진분류기\n",
        "\n",
        "해당 데이터는 호주의 주택가격을 예측하는 회귀의 문제로 풀 수 있으나\n",
        "\n",
        "데이터 분석 및 활용, 본 수업에서는 비선형 회귀분석을 다루지 않은바\n",
        "분류의 문제로 예측함"
      ],
      "metadata": {
        "id": "j-16J-_rGLJw"
      }
    },
    {
      "cell_type": "code",
      "source": [
        "x, y = 0, 0\n",
        "\n",
        "x = HP[\"category_name\"]\n",
        "y = HP.drop(\"category_name\", axis = 1)"
      ],
      "metadata": {
        "id": "KjYk4ZASHABu"
      },
      "execution_count": 1363,
      "outputs": []
    },
    {
      "cell_type": "code",
      "source": [
        "x_train, x_test, y_train, y_test = train_test_split(x, y, test_size = 0.3, random_state = 2023)"
      ],
      "metadata": {
        "id": "N24B77LdFg-q"
      },
      "execution_count": 1365,
      "outputs": []
    },
    {
      "cell_type": "code",
      "source": [],
      "metadata": {
        "id": "Mu5v5-BrHRHm"
      },
      "execution_count": null,
      "outputs": []
    }
  ]
}